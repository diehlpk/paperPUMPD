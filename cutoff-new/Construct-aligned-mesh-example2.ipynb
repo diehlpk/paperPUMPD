{
 "cells": [
  {
   "cell_type": "code",
   "execution_count": 1,
   "id": "90092dda",
   "metadata": {},
   "outputs": [],
   "source": [
    "import numpy as np"
   ]
  },
  {
   "cell_type": "code",
   "execution_count": 2,
   "id": "72f237cd",
   "metadata": {},
   "outputs": [],
   "source": [
    "import matplotlib.pyplot as plt"
   ]
  },
  {
   "cell_type": "code",
   "execution_count": 3,
   "id": "66f271b0",
   "metadata": {},
   "outputs": [],
   "source": [
    "import vtk"
   ]
  },
  {
   "cell_type": "code",
   "execution_count": 4,
   "id": "b51b86d3",
   "metadata": {},
   "outputs": [],
   "source": [
    "xhalf = 0.02/2\n",
    "ymin = 0.01\n",
    "ymax = 0.02\n",
    "xcrack = 0.05\n",
    "ycrack = 0.01\n",
    "n = 512"
   ]
  },
  {
   "cell_type": "code",
   "execution_count": 5,
   "id": "8bf8052f",
   "metadata": {},
   "outputs": [],
   "source": [
    "xarea = np.array([0,0,0.1,0.1,0])\n",
    "yarea = np.array([0,0.1,0.1,0,0])"
   ]
  },
  {
   "cell_type": "code",
   "execution_count": 6,
   "id": "a6f2cbb8",
   "metadata": {},
   "outputs": [],
   "source": [
    "xareaPD = np.array([0.04,0.04,0.06,0.06,0.04])\n",
    "yareaPD = np.array([0.01,0.03,0.03,0.01,0.01])"
   ]
  },
  {
   "cell_type": "code",
   "execution_count": 7,
   "id": "4dbc4a8d",
   "metadata": {},
   "outputs": [
    {
     "data": {
      "text/plain": [
       "1.9512176513671876e-05"
      ]
     },
     "execution_count": 7,
     "metadata": {},
     "output_type": "execute_result"
    }
   ],
   "source": [
    "h = xhalf/n\n",
    "h\n",
    "h = (xhalf-h/2) / n\n",
    "h "
   ]
  },
  {
   "cell_type": "code",
   "execution_count": 8,
   "id": "c55f8a06",
   "metadata": {},
   "outputs": [
    {
     "data": {
      "text/plain": [
       "0.00031219482421875"
      ]
     },
     "execution_count": 8,
     "metadata": {},
     "output_type": "execute_result"
    }
   ],
   "source": [
    "delta = 16 * h\n",
    "delta"
   ]
  },
  {
   "cell_type": "code",
   "execution_count": 9,
   "id": "aebbba7b",
   "metadata": {},
   "outputs": [],
   "source": [
    "x = []\n",
    "y = []\n",
    "volume = []\n",
    "for j in range(0,int(2*ycrack/h)+1):\n",
    "    for i in range(0,n+1):\n",
    "        x.append(0.05-h/2-i*h)\n",
    "        y.append(0.01+j*h)\n",
    "\n",
    "for j in range(0,int(2*ycrack/h)+1):\n",
    "    for i in range(0,n+1):\n",
    "        x.append(0.05+h/2+i*h)\n",
    "        y.append(0.01+j*h)\n",
    "    \n",
    "minx = min(x)\n",
    "maxx = max(x)\n",
    "miny = min(y)\n",
    "maxy = max(y)\n",
    "    \n",
    "for x_, y_ in zip(x,y) :\n",
    "    if x_ == minx or x_ == maxx or y_ == miny or y_ == maxy:\n",
    "        volume.append(h*h/2)\n",
    "    else:\n",
    "        volume.append(h*h)    "
   ]
  },
  {
   "cell_type": "code",
   "execution_count": 10,
   "id": "5ce863ed",
   "metadata": {},
   "outputs": [],
   "source": [
    "amountleft = 0\n",
    "amountright = 0\n",
    "miny = min(y)\n",
    "lineleft = []\n",
    "lineright = []\n",
    "for x_, y_ in zip(x,y) :\n",
    "    if y_ == miny and x_ < 0.05 :\n",
    "        amountleft += 1\n",
    "        lineleft.append(x_)\n",
    "    if y_ == miny and x_ > 0.05 :\n",
    "        amountright += 1\n",
    "        lineright.append(x_)\n",
    "\n",
    "lineleft = np.sort(lineleft)\n",
    "lineright = np.sort(lineright)\n",
    "\n",
    "lineleft = np.array(lineleft)\n",
    "lineright = np.array(lineright)"
   ]
  },
  {
   "cell_type": "code",
   "execution_count": 11,
   "id": "131a289b",
   "metadata": {},
   "outputs": [
    {
     "data": {
      "text/plain": [
       "array([9.99023437e-03, 9.97072220e-03, 9.95121002e-03, 9.93169785e-03,\n",
       "       9.91218567e-03, 9.89267349e-03, 9.87316132e-03, 9.85364914e-03,\n",
       "       9.83413696e-03, 9.81462479e-03, 9.79511261e-03, 9.77560043e-03,\n",
       "       9.75608826e-03, 9.73657608e-03, 9.71706390e-03, 9.69755173e-03,\n",
       "       9.67803955e-03, 9.65852737e-03, 9.63901520e-03, 9.61950302e-03,\n",
       "       9.59999084e-03, 9.58047867e-03, 9.56096649e-03, 9.54145432e-03,\n",
       "       9.52194214e-03, 9.50242996e-03, 9.48291779e-03, 9.46340561e-03,\n",
       "       9.44389343e-03, 9.42438126e-03, 9.40486908e-03, 9.38535690e-03,\n",
       "       9.36584473e-03, 9.34633255e-03, 9.32682037e-03, 9.30730820e-03,\n",
       "       9.28779602e-03, 9.26828384e-03, 9.24877167e-03, 9.22925949e-03,\n",
       "       9.20974731e-03, 9.19023514e-03, 9.17072296e-03, 9.15121078e-03,\n",
       "       9.13169861e-03, 9.11218643e-03, 9.09267426e-03, 9.07316208e-03,\n",
       "       9.05364990e-03, 9.03413773e-03, 9.01462555e-03, 8.99511337e-03,\n",
       "       8.97560120e-03, 8.95608902e-03, 8.93657684e-03, 8.91706467e-03,\n",
       "       8.89755249e-03, 8.87804031e-03, 8.85852814e-03, 8.83901596e-03,\n",
       "       8.81950378e-03, 8.79999161e-03, 8.78047943e-03, 8.76096725e-03,\n",
       "       8.74145508e-03, 8.72194290e-03, 8.70243073e-03, 8.68291855e-03,\n",
       "       8.66340637e-03, 8.64389420e-03, 8.62438202e-03, 8.60486984e-03,\n",
       "       8.58535767e-03, 8.56584549e-03, 8.54633331e-03, 8.52682114e-03,\n",
       "       8.50730896e-03, 8.48779678e-03, 8.46828461e-03, 8.44877243e-03,\n",
       "       8.42926025e-03, 8.40974808e-03, 8.39023590e-03, 8.37072372e-03,\n",
       "       8.35121155e-03, 8.33169937e-03, 8.31218719e-03, 8.29267502e-03,\n",
       "       8.27316284e-03, 8.25365067e-03, 8.23413849e-03, 8.21462631e-03,\n",
       "       8.19511414e-03, 8.17560196e-03, 8.15608978e-03, 8.13657761e-03,\n",
       "       8.11706543e-03, 8.09755325e-03, 8.07804108e-03, 8.05852890e-03,\n",
       "       8.03901672e-03, 8.01950455e-03, 7.99999237e-03, 7.98048019e-03,\n",
       "       7.96096802e-03, 7.94145584e-03, 7.92194366e-03, 7.90243149e-03,\n",
       "       7.88291931e-03, 7.86340714e-03, 7.84389496e-03, 7.82438278e-03,\n",
       "       7.80487061e-03, 7.78535843e-03, 7.76584625e-03, 7.74633408e-03,\n",
       "       7.72682190e-03, 7.70730972e-03, 7.68779755e-03, 7.66828537e-03,\n",
       "       7.64877319e-03, 7.62926102e-03, 7.60974884e-03, 7.59023666e-03,\n",
       "       7.57072449e-03, 7.55121231e-03, 7.53170013e-03, 7.51218796e-03,\n",
       "       7.49267578e-03, 7.47316360e-03, 7.45365143e-03, 7.43413925e-03,\n",
       "       7.41462708e-03, 7.39511490e-03, 7.37560272e-03, 7.35609055e-03,\n",
       "       7.33657837e-03, 7.31706619e-03, 7.29755402e-03, 7.27804184e-03,\n",
       "       7.25852966e-03, 7.23901749e-03, 7.21950531e-03, 7.19999313e-03,\n",
       "       7.18048096e-03, 7.16096878e-03, 7.14145660e-03, 7.12194443e-03,\n",
       "       7.10243225e-03, 7.08292007e-03, 7.06340790e-03, 7.04389572e-03,\n",
       "       7.02438354e-03, 7.00487137e-03, 6.98535919e-03, 6.96584702e-03,\n",
       "       6.94633484e-03, 6.92682266e-03, 6.90731049e-03, 6.88779831e-03,\n",
       "       6.86828613e-03, 6.84877396e-03, 6.82926178e-03, 6.80974960e-03,\n",
       "       6.79023743e-03, 6.77072525e-03, 6.75121307e-03, 6.73170090e-03,\n",
       "       6.71218872e-03, 6.69267654e-03, 6.67316437e-03, 6.65365219e-03,\n",
       "       6.63414001e-03, 6.61462784e-03, 6.59511566e-03, 6.57560349e-03,\n",
       "       6.55609131e-03, 6.53657913e-03, 6.51706696e-03, 6.49755478e-03,\n",
       "       6.47804260e-03, 6.45853043e-03, 6.43901825e-03, 6.41950607e-03,\n",
       "       6.39999390e-03, 6.38048172e-03, 6.36096954e-03, 6.34145737e-03,\n",
       "       6.32194519e-03, 6.30243301e-03, 6.28292084e-03, 6.26340866e-03,\n",
       "       6.24389648e-03, 6.22438431e-03, 6.20487213e-03, 6.18535995e-03,\n",
       "       6.16584778e-03, 6.14633560e-03, 6.12682343e-03, 6.10731125e-03,\n",
       "       6.08779907e-03, 6.06828690e-03, 6.04877472e-03, 6.02926254e-03,\n",
       "       6.00975037e-03, 5.99023819e-03, 5.97072601e-03, 5.95121384e-03,\n",
       "       5.93170166e-03, 5.91218948e-03, 5.89267731e-03, 5.87316513e-03,\n",
       "       5.85365295e-03, 5.83414078e-03, 5.81462860e-03, 5.79511642e-03,\n",
       "       5.77560425e-03, 5.75609207e-03, 5.73657990e-03, 5.71706772e-03,\n",
       "       5.69755554e-03, 5.67804337e-03, 5.65853119e-03, 5.63901901e-03,\n",
       "       5.61950684e-03, 5.59999466e-03, 5.58048248e-03, 5.56097031e-03,\n",
       "       5.54145813e-03, 5.52194595e-03, 5.50243378e-03, 5.48292160e-03,\n",
       "       5.46340942e-03, 5.44389725e-03, 5.42438507e-03, 5.40487289e-03,\n",
       "       5.38536072e-03, 5.36584854e-03, 5.34633636e-03, 5.32682419e-03,\n",
       "       5.30731201e-03, 5.28779984e-03, 5.26828766e-03, 5.24877548e-03,\n",
       "       5.22926331e-03, 5.20975113e-03, 5.19023895e-03, 5.17072678e-03,\n",
       "       5.15121460e-03, 5.13170242e-03, 5.11219025e-03, 5.09267807e-03,\n",
       "       5.07316589e-03, 5.05365372e-03, 5.03414154e-03, 5.01462936e-03,\n",
       "       4.99511719e-03, 4.97560501e-03, 4.95609283e-03, 4.93658066e-03,\n",
       "       4.91706848e-03, 4.89755630e-03, 4.87804413e-03, 4.85853195e-03,\n",
       "       4.83901978e-03, 4.81950760e-03, 4.79999542e-03, 4.78048325e-03,\n",
       "       4.76097107e-03, 4.74145889e-03, 4.72194672e-03, 4.70243454e-03,\n",
       "       4.68292236e-03, 4.66341019e-03, 4.64389801e-03, 4.62438583e-03,\n",
       "       4.60487366e-03, 4.58536148e-03, 4.56584930e-03, 4.54633713e-03,\n",
       "       4.52682495e-03, 4.50731277e-03, 4.48780060e-03, 4.46828842e-03,\n",
       "       4.44877625e-03, 4.42926407e-03, 4.40975189e-03, 4.39023972e-03,\n",
       "       4.37072754e-03, 4.35121536e-03, 4.33170319e-03, 4.31219101e-03,\n",
       "       4.29267883e-03, 4.27316666e-03, 4.25365448e-03, 4.23414230e-03,\n",
       "       4.21463013e-03, 4.19511795e-03, 4.17560577e-03, 4.15609360e-03,\n",
       "       4.13658142e-03, 4.11706924e-03, 4.09755707e-03, 4.07804489e-03,\n",
       "       4.05853271e-03, 4.03902054e-03, 4.01950836e-03, 3.99999619e-03,\n",
       "       3.98048401e-03, 3.96097183e-03, 3.94145966e-03, 3.92194748e-03,\n",
       "       3.90243530e-03, 3.88292313e-03, 3.86341095e-03, 3.84389877e-03,\n",
       "       3.82438660e-03, 3.80487442e-03, 3.78536224e-03, 3.76585007e-03,\n",
       "       3.74633789e-03, 3.72682571e-03, 3.70731354e-03, 3.68780136e-03,\n",
       "       3.66828918e-03, 3.64877701e-03, 3.62926483e-03, 3.60975266e-03,\n",
       "       3.59024048e-03, 3.57072830e-03, 3.55121613e-03, 3.53170395e-03,\n",
       "       3.51219177e-03, 3.49267960e-03, 3.47316742e-03, 3.45365524e-03,\n",
       "       3.43414307e-03, 3.41463089e-03, 3.39511871e-03, 3.37560654e-03,\n",
       "       3.35609436e-03, 3.33658218e-03, 3.31707001e-03, 3.29755783e-03,\n",
       "       3.27804565e-03, 3.25853348e-03, 3.23902130e-03, 3.21950912e-03,\n",
       "       3.19999695e-03, 3.18048477e-03, 3.16097260e-03, 3.14146042e-03,\n",
       "       3.12194824e-03, 3.10243607e-03, 3.08292389e-03, 3.06341171e-03,\n",
       "       3.04389954e-03, 3.02438736e-03, 3.00487518e-03, 2.98536301e-03,\n",
       "       2.96585083e-03, 2.94633865e-03, 2.92682648e-03, 2.90731430e-03,\n",
       "       2.88780212e-03, 2.86828995e-03, 2.84877777e-03, 2.82926559e-03,\n",
       "       2.80975342e-03, 2.79024124e-03, 2.77072906e-03, 2.75121689e-03,\n",
       "       2.73170471e-03, 2.71219254e-03, 2.69268036e-03, 2.67316818e-03,\n",
       "       2.65365601e-03, 2.63414383e-03, 2.61463165e-03, 2.59511948e-03,\n",
       "       2.57560730e-03, 2.55609512e-03, 2.53658295e-03, 2.51707077e-03,\n",
       "       2.49755859e-03, 2.47804642e-03, 2.45853424e-03, 2.43902206e-03,\n",
       "       2.41950989e-03, 2.39999771e-03, 2.38048553e-03, 2.36097336e-03,\n",
       "       2.34146118e-03, 2.32194901e-03, 2.30243683e-03, 2.28292465e-03,\n",
       "       2.26341248e-03, 2.24390030e-03, 2.22438812e-03, 2.20487595e-03,\n",
       "       2.18536377e-03, 2.16585159e-03, 2.14633942e-03, 2.12682724e-03,\n",
       "       2.10731506e-03, 2.08780289e-03, 2.06829071e-03, 2.04877853e-03,\n",
       "       2.02926636e-03, 2.00975418e-03, 1.99024200e-03, 1.97072983e-03,\n",
       "       1.95121765e-03, 1.93170547e-03, 1.91219330e-03, 1.89268112e-03,\n",
       "       1.87316895e-03, 1.85365677e-03, 1.83414459e-03, 1.81463242e-03,\n",
       "       1.79512024e-03, 1.77560806e-03, 1.75609589e-03, 1.73658371e-03,\n",
       "       1.71707153e-03, 1.69755936e-03, 1.67804718e-03, 1.65853500e-03,\n",
       "       1.63902283e-03, 1.61951065e-03, 1.59999847e-03, 1.58048630e-03,\n",
       "       1.56097412e-03, 1.54146194e-03, 1.52194977e-03, 1.50243759e-03,\n",
       "       1.48292542e-03, 1.46341324e-03, 1.44390106e-03, 1.42438889e-03,\n",
       "       1.40487671e-03, 1.38536453e-03, 1.36585236e-03, 1.34634018e-03,\n",
       "       1.32682800e-03, 1.30731583e-03, 1.28780365e-03, 1.26829147e-03,\n",
       "       1.24877930e-03, 1.22926712e-03, 1.20975494e-03, 1.19024277e-03,\n",
       "       1.17073059e-03, 1.15121841e-03, 1.13170624e-03, 1.11219406e-03,\n",
       "       1.09268188e-03, 1.07316971e-03, 1.05365753e-03, 1.03414536e-03,\n",
       "       1.01463318e-03, 9.95121002e-04, 9.75608826e-04, 9.56096649e-04,\n",
       "       9.36584473e-04, 9.17072296e-04, 8.97560120e-04, 8.78047943e-04,\n",
       "       8.58535767e-04, 8.39023590e-04, 8.19511414e-04, 7.99999237e-04,\n",
       "       7.80487061e-04, 7.60974884e-04, 7.41462708e-04, 7.21950531e-04,\n",
       "       7.02438354e-04, 6.82926178e-04, 6.63414001e-04, 6.43901825e-04,\n",
       "       6.24389648e-04, 6.04877472e-04, 5.85365295e-04, 5.65853119e-04,\n",
       "       5.46340942e-04, 5.26828766e-04, 5.07316589e-04, 4.87804413e-04,\n",
       "       4.68292236e-04, 4.48780060e-04, 4.29267883e-04, 4.09755707e-04,\n",
       "       3.90243530e-04, 3.70731354e-04, 3.51219177e-04, 3.31707001e-04,\n",
       "       3.12194824e-04, 2.92682648e-04, 2.73170471e-04, 2.53658295e-04,\n",
       "       2.34146118e-04, 2.14633942e-04, 1.95121765e-04, 1.75609589e-04,\n",
       "       1.56097412e-04, 1.36585236e-04, 1.17073059e-04, 9.75608826e-05,\n",
       "       7.80487061e-05, 5.85365295e-05, 3.90243530e-05, 1.95121765e-05,\n",
       "       0.00000000e+00])"
      ]
     },
     "execution_count": 11,
     "metadata": {},
     "output_type": "execute_result"
    }
   ],
   "source": [
    "0.05-h/2-lineleft"
   ]
  },
  {
   "cell_type": "code",
   "execution_count": 12,
   "id": "625c2aa1",
   "metadata": {},
   "outputs": [
    {
     "data": {
      "text/plain": [
       "array([ 0.00000000e+00, -1.95121765e-05, -3.90243530e-05, -5.85365295e-05,\n",
       "       -7.80487061e-05, -9.75608826e-05, -1.17073059e-04, -1.36585236e-04,\n",
       "       -1.56097412e-04, -1.75609589e-04, -1.95121765e-04, -2.14633942e-04,\n",
       "       -2.34146118e-04, -2.53658295e-04, -2.73170471e-04, -2.92682648e-04,\n",
       "       -3.12194824e-04, -3.31707001e-04, -3.51219177e-04, -3.70731354e-04,\n",
       "       -3.90243530e-04, -4.09755707e-04, -4.29267883e-04, -4.48780060e-04,\n",
       "       -4.68292236e-04, -4.87804413e-04, -5.07316589e-04, -5.26828766e-04,\n",
       "       -5.46340942e-04, -5.65853119e-04, -5.85365295e-04, -6.04877472e-04,\n",
       "       -6.24389648e-04, -6.43901825e-04, -6.63414001e-04, -6.82926178e-04,\n",
       "       -7.02438354e-04, -7.21950531e-04, -7.41462708e-04, -7.60974884e-04,\n",
       "       -7.80487061e-04, -7.99999237e-04, -8.19511414e-04, -8.39023590e-04,\n",
       "       -8.58535767e-04, -8.78047943e-04, -8.97560120e-04, -9.17072296e-04,\n",
       "       -9.36584473e-04, -9.56096649e-04, -9.75608826e-04, -9.95121002e-04,\n",
       "       -1.01463318e-03, -1.03414536e-03, -1.05365753e-03, -1.07316971e-03,\n",
       "       -1.09268188e-03, -1.11219406e-03, -1.13170624e-03, -1.15121841e-03,\n",
       "       -1.17073059e-03, -1.19024277e-03, -1.20975494e-03, -1.22926712e-03,\n",
       "       -1.24877930e-03, -1.26829147e-03, -1.28780365e-03, -1.30731583e-03,\n",
       "       -1.32682800e-03, -1.34634018e-03, -1.36585236e-03, -1.38536453e-03,\n",
       "       -1.40487671e-03, -1.42438889e-03, -1.44390106e-03, -1.46341324e-03,\n",
       "       -1.48292542e-03, -1.50243759e-03, -1.52194977e-03, -1.54146194e-03,\n",
       "       -1.56097412e-03, -1.58048630e-03, -1.59999847e-03, -1.61951065e-03,\n",
       "       -1.63902283e-03, -1.65853500e-03, -1.67804718e-03, -1.69755936e-03,\n",
       "       -1.71707153e-03, -1.73658371e-03, -1.75609589e-03, -1.77560806e-03,\n",
       "       -1.79512024e-03, -1.81463242e-03, -1.83414459e-03, -1.85365677e-03,\n",
       "       -1.87316895e-03, -1.89268112e-03, -1.91219330e-03, -1.93170547e-03,\n",
       "       -1.95121765e-03, -1.97072983e-03, -1.99024200e-03, -2.00975418e-03,\n",
       "       -2.02926636e-03, -2.04877853e-03, -2.06829071e-03, -2.08780289e-03,\n",
       "       -2.10731506e-03, -2.12682724e-03, -2.14633942e-03, -2.16585159e-03,\n",
       "       -2.18536377e-03, -2.20487595e-03, -2.22438812e-03, -2.24390030e-03,\n",
       "       -2.26341248e-03, -2.28292465e-03, -2.30243683e-03, -2.32194901e-03,\n",
       "       -2.34146118e-03, -2.36097336e-03, -2.38048553e-03, -2.39999771e-03,\n",
       "       -2.41950989e-03, -2.43902206e-03, -2.45853424e-03, -2.47804642e-03,\n",
       "       -2.49755859e-03, -2.51707077e-03, -2.53658295e-03, -2.55609512e-03,\n",
       "       -2.57560730e-03, -2.59511948e-03, -2.61463165e-03, -2.63414383e-03,\n",
       "       -2.65365601e-03, -2.67316818e-03, -2.69268036e-03, -2.71219254e-03,\n",
       "       -2.73170471e-03, -2.75121689e-03, -2.77072906e-03, -2.79024124e-03,\n",
       "       -2.80975342e-03, -2.82926559e-03, -2.84877777e-03, -2.86828995e-03,\n",
       "       -2.88780212e-03, -2.90731430e-03, -2.92682648e-03, -2.94633865e-03,\n",
       "       -2.96585083e-03, -2.98536301e-03, -3.00487518e-03, -3.02438736e-03,\n",
       "       -3.04389954e-03, -3.06341171e-03, -3.08292389e-03, -3.10243607e-03,\n",
       "       -3.12194824e-03, -3.14146042e-03, -3.16097260e-03, -3.18048477e-03,\n",
       "       -3.19999695e-03, -3.21950912e-03, -3.23902130e-03, -3.25853348e-03,\n",
       "       -3.27804565e-03, -3.29755783e-03, -3.31707001e-03, -3.33658218e-03,\n",
       "       -3.35609436e-03, -3.37560654e-03, -3.39511871e-03, -3.41463089e-03,\n",
       "       -3.43414307e-03, -3.45365524e-03, -3.47316742e-03, -3.49267960e-03,\n",
       "       -3.51219177e-03, -3.53170395e-03, -3.55121613e-03, -3.57072830e-03,\n",
       "       -3.59024048e-03, -3.60975266e-03, -3.62926483e-03, -3.64877701e-03,\n",
       "       -3.66828918e-03, -3.68780136e-03, -3.70731354e-03, -3.72682571e-03,\n",
       "       -3.74633789e-03, -3.76585007e-03, -3.78536224e-03, -3.80487442e-03,\n",
       "       -3.82438660e-03, -3.84389877e-03, -3.86341095e-03, -3.88292313e-03,\n",
       "       -3.90243530e-03, -3.92194748e-03, -3.94145966e-03, -3.96097183e-03,\n",
       "       -3.98048401e-03, -3.99999619e-03, -4.01950836e-03, -4.03902054e-03,\n",
       "       -4.05853271e-03, -4.07804489e-03, -4.09755707e-03, -4.11706924e-03,\n",
       "       -4.13658142e-03, -4.15609360e-03, -4.17560577e-03, -4.19511795e-03,\n",
       "       -4.21463013e-03, -4.23414230e-03, -4.25365448e-03, -4.27316666e-03,\n",
       "       -4.29267883e-03, -4.31219101e-03, -4.33170319e-03, -4.35121536e-03,\n",
       "       -4.37072754e-03, -4.39023972e-03, -4.40975189e-03, -4.42926407e-03,\n",
       "       -4.44877625e-03, -4.46828842e-03, -4.48780060e-03, -4.50731277e-03,\n",
       "       -4.52682495e-03, -4.54633713e-03, -4.56584930e-03, -4.58536148e-03,\n",
       "       -4.60487366e-03, -4.62438583e-03, -4.64389801e-03, -4.66341019e-03,\n",
       "       -4.68292236e-03, -4.70243454e-03, -4.72194672e-03, -4.74145889e-03,\n",
       "       -4.76097107e-03, -4.78048325e-03, -4.79999542e-03, -4.81950760e-03,\n",
       "       -4.83901978e-03, -4.85853195e-03, -4.87804413e-03, -4.89755630e-03,\n",
       "       -4.91706848e-03, -4.93658066e-03, -4.95609283e-03, -4.97560501e-03,\n",
       "       -4.99511719e-03, -5.01462936e-03, -5.03414154e-03, -5.05365372e-03,\n",
       "       -5.07316589e-03, -5.09267807e-03, -5.11219025e-03, -5.13170242e-03,\n",
       "       -5.15121460e-03, -5.17072678e-03, -5.19023895e-03, -5.20975113e-03,\n",
       "       -5.22926331e-03, -5.24877548e-03, -5.26828766e-03, -5.28779984e-03,\n",
       "       -5.30731201e-03, -5.32682419e-03, -5.34633636e-03, -5.36584854e-03,\n",
       "       -5.38536072e-03, -5.40487289e-03, -5.42438507e-03, -5.44389725e-03,\n",
       "       -5.46340942e-03, -5.48292160e-03, -5.50243378e-03, -5.52194595e-03,\n",
       "       -5.54145813e-03, -5.56097031e-03, -5.58048248e-03, -5.59999466e-03,\n",
       "       -5.61950684e-03, -5.63901901e-03, -5.65853119e-03, -5.67804337e-03,\n",
       "       -5.69755554e-03, -5.71706772e-03, -5.73657990e-03, -5.75609207e-03,\n",
       "       -5.77560425e-03, -5.79511642e-03, -5.81462860e-03, -5.83414078e-03,\n",
       "       -5.85365295e-03, -5.87316513e-03, -5.89267731e-03, -5.91218948e-03,\n",
       "       -5.93170166e-03, -5.95121384e-03, -5.97072601e-03, -5.99023819e-03,\n",
       "       -6.00975037e-03, -6.02926254e-03, -6.04877472e-03, -6.06828690e-03,\n",
       "       -6.08779907e-03, -6.10731125e-03, -6.12682343e-03, -6.14633560e-03,\n",
       "       -6.16584778e-03, -6.18535995e-03, -6.20487213e-03, -6.22438431e-03,\n",
       "       -6.24389648e-03, -6.26340866e-03, -6.28292084e-03, -6.30243301e-03,\n",
       "       -6.32194519e-03, -6.34145737e-03, -6.36096954e-03, -6.38048172e-03,\n",
       "       -6.39999390e-03, -6.41950607e-03, -6.43901825e-03, -6.45853043e-03,\n",
       "       -6.47804260e-03, -6.49755478e-03, -6.51706696e-03, -6.53657913e-03,\n",
       "       -6.55609131e-03, -6.57560349e-03, -6.59511566e-03, -6.61462784e-03,\n",
       "       -6.63414001e-03, -6.65365219e-03, -6.67316437e-03, -6.69267654e-03,\n",
       "       -6.71218872e-03, -6.73170090e-03, -6.75121307e-03, -6.77072525e-03,\n",
       "       -6.79023743e-03, -6.80974960e-03, -6.82926178e-03, -6.84877396e-03,\n",
       "       -6.86828613e-03, -6.88779831e-03, -6.90731049e-03, -6.92682266e-03,\n",
       "       -6.94633484e-03, -6.96584702e-03, -6.98535919e-03, -7.00487137e-03,\n",
       "       -7.02438354e-03, -7.04389572e-03, -7.06340790e-03, -7.08292007e-03,\n",
       "       -7.10243225e-03, -7.12194443e-03, -7.14145660e-03, -7.16096878e-03,\n",
       "       -7.18048096e-03, -7.19999313e-03, -7.21950531e-03, -7.23901749e-03,\n",
       "       -7.25852966e-03, -7.27804184e-03, -7.29755402e-03, -7.31706619e-03,\n",
       "       -7.33657837e-03, -7.35609055e-03, -7.37560272e-03, -7.39511490e-03,\n",
       "       -7.41462708e-03, -7.43413925e-03, -7.45365143e-03, -7.47316360e-03,\n",
       "       -7.49267578e-03, -7.51218796e-03, -7.53170013e-03, -7.55121231e-03,\n",
       "       -7.57072449e-03, -7.59023666e-03, -7.60974884e-03, -7.62926102e-03,\n",
       "       -7.64877319e-03, -7.66828537e-03, -7.68779755e-03, -7.70730972e-03,\n",
       "       -7.72682190e-03, -7.74633408e-03, -7.76584625e-03, -7.78535843e-03,\n",
       "       -7.80487061e-03, -7.82438278e-03, -7.84389496e-03, -7.86340714e-03,\n",
       "       -7.88291931e-03, -7.90243149e-03, -7.92194366e-03, -7.94145584e-03,\n",
       "       -7.96096802e-03, -7.98048019e-03, -7.99999237e-03, -8.01950455e-03,\n",
       "       -8.03901672e-03, -8.05852890e-03, -8.07804108e-03, -8.09755325e-03,\n",
       "       -8.11706543e-03, -8.13657761e-03, -8.15608978e-03, -8.17560196e-03,\n",
       "       -8.19511414e-03, -8.21462631e-03, -8.23413849e-03, -8.25365067e-03,\n",
       "       -8.27316284e-03, -8.29267502e-03, -8.31218719e-03, -8.33169937e-03,\n",
       "       -8.35121155e-03, -8.37072372e-03, -8.39023590e-03, -8.40974808e-03,\n",
       "       -8.42926025e-03, -8.44877243e-03, -8.46828461e-03, -8.48779678e-03,\n",
       "       -8.50730896e-03, -8.52682114e-03, -8.54633331e-03, -8.56584549e-03,\n",
       "       -8.58535767e-03, -8.60486984e-03, -8.62438202e-03, -8.64389420e-03,\n",
       "       -8.66340637e-03, -8.68291855e-03, -8.70243073e-03, -8.72194290e-03,\n",
       "       -8.74145508e-03, -8.76096725e-03, -8.78047943e-03, -8.79999161e-03,\n",
       "       -8.81950378e-03, -8.83901596e-03, -8.85852814e-03, -8.87804031e-03,\n",
       "       -8.89755249e-03, -8.91706467e-03, -8.93657684e-03, -8.95608902e-03,\n",
       "       -8.97560120e-03, -8.99511337e-03, -9.01462555e-03, -9.03413773e-03,\n",
       "       -9.05364990e-03, -9.07316208e-03, -9.09267426e-03, -9.11218643e-03,\n",
       "       -9.13169861e-03, -9.15121078e-03, -9.17072296e-03, -9.19023514e-03,\n",
       "       -9.20974731e-03, -9.22925949e-03, -9.24877167e-03, -9.26828384e-03,\n",
       "       -9.28779602e-03, -9.30730820e-03, -9.32682037e-03, -9.34633255e-03,\n",
       "       -9.36584473e-03, -9.38535690e-03, -9.40486908e-03, -9.42438126e-03,\n",
       "       -9.44389343e-03, -9.46340561e-03, -9.48291779e-03, -9.50242996e-03,\n",
       "       -9.52194214e-03, -9.54145432e-03, -9.56096649e-03, -9.58047867e-03,\n",
       "       -9.59999084e-03, -9.61950302e-03, -9.63901520e-03, -9.65852737e-03,\n",
       "       -9.67803955e-03, -9.69755173e-03, -9.71706390e-03, -9.73657608e-03,\n",
       "       -9.75608826e-03, -9.77560043e-03, -9.79511261e-03, -9.81462479e-03,\n",
       "       -9.83413696e-03, -9.85364914e-03, -9.87316132e-03, -9.89267349e-03,\n",
       "       -9.91218567e-03, -9.93169785e-03, -9.95121002e-03, -9.97072220e-03,\n",
       "       -9.99023437e-03])"
      ]
     },
     "execution_count": 12,
     "metadata": {},
     "output_type": "execute_result"
    }
   ],
   "source": [
    "0.05+h/2-lineright"
   ]
  },
  {
   "cell_type": "code",
   "execution_count": 13,
   "id": "2af39fd9",
   "metadata": {},
   "outputs": [],
   "source": [
    "z = np.linspace(0,1,len(lineleft))"
   ]
  },
  {
   "cell_type": "code",
   "execution_count": 14,
   "id": "706522fa",
   "metadata": {},
   "outputs": [
    {
     "data": {
      "text/plain": [
       "[<matplotlib.lines.Line2D at 0x7f4d830f7280>]"
      ]
     },
     "execution_count": 14,
     "metadata": {},
     "output_type": "execute_result"
    },
    {
     "data": {
      "image/png": "[encoded data removed]",
      "text/plain": [
       "<Figure size 432x288 with 1 Axes>"
      ]
     },
     "metadata": {
      "needs_background": "light"
     },
     "output_type": "display_data"
    }
   ],
   "source": [
    "plt.plot(z,np.sort(abs(0.05-h/2-lineleft)))\n",
    "plt.plot(z,abs(0.05+h/2-lineright))"
   ]
  },
  {
   "cell_type": "code",
   "execution_count": 15,
   "id": "3b379ecf",
   "metadata": {},
   "outputs": [
    {
     "data": {
      "text/plain": [
       "0.04000000953674317"
      ]
     },
     "execution_count": 15,
     "metadata": {},
     "output_type": "execute_result"
    }
   ],
   "source": [
    "min(x)"
   ]
  },
  {
   "cell_type": "code",
   "execution_count": 16,
   "id": "5345946b",
   "metadata": {},
   "outputs": [
    {
     "data": {
      "text/plain": [
       "0.05999999046325684"
      ]
     },
     "execution_count": 16,
     "metadata": {},
     "output_type": "execute_result"
    }
   ],
   "source": [
    "max(x)"
   ]
  },
  {
   "cell_type": "code",
   "execution_count": 17,
   "id": "e9c280ca",
   "metadata": {},
   "outputs": [
    {
     "data": {
      "text/plain": [
       "0.01"
      ]
     },
     "execution_count": 17,
     "metadata": {},
     "output_type": "execute_result"
    }
   ],
   "source": [
    "min(y)"
   ]
  },
  {
   "cell_type": "code",
   "execution_count": 18,
   "id": "13e8fe5b",
   "metadata": {},
   "outputs": [
    {
     "data": {
      "text/plain": [
       "0.029999980926513674"
      ]
     },
     "execution_count": 18,
     "metadata": {},
     "output_type": "execute_result"
    }
   ],
   "source": [
    "max(y)"
   ]
  },
  {
   "cell_type": "code",
   "execution_count": 19,
   "id": "d794c97e",
   "metadata": {},
   "outputs": [
    {
     "data": {
      "text/plain": [
       "<matplotlib.collections.PathCollection at 0x7f4d82df8640>"
      ]
     },
     "execution_count": 19,
     "metadata": {},
     "output_type": "execute_result"
    },
    {
     "data": {
      "image/png": "[encoded data removed]",
      "text/plain": [
       "<Figure size 432x288 with 1 Axes>"
      ]
     },
     "metadata": {
      "needs_background": "light"
     },
     "output_type": "display_data"
    }
   ],
   "source": [
    "plt.plot(xareaPD,yareaPD)\n",
    "plt.plot([0.05,0.05],[0.01,0.02])\n",
    "plt.scatter(x,y,c=volume)"
   ]
  },
  {
   "cell_type": "code",
   "execution_count": 20,
   "id": "3dea8bd7",
   "metadata": {},
   "outputs": [
    {
     "data": {
      "text/plain": [
       "<matplotlib.collections.PathCollection at 0x7f4d830ab430>"
      ]
     },
     "execution_count": 20,
     "metadata": {},
     "output_type": "execute_result"
    },
    {
     "data": {
      "image/png": "[encoded data removed]",
      "text/plain": [
       "<Figure size 432x288 with 1 Axes>"
      ]
     },
     "metadata": {
      "needs_background": "light"
     },
     "output_type": "display_data"
    }
   ],
   "source": [
    "plt.plot(xarea,yarea)\n",
    "plt.plot(xareaPD,yareaPD)\n",
    "plt.plot([0.05,0.05],[0,0.02])\n",
    "plt.scatter(x,y)"
   ]
  },
  {
   "cell_type": "code",
   "execution_count": 21,
   "id": "6bb31c29",
   "metadata": {},
   "outputs": [
    {
     "data": {
      "text/plain": [
       "1"
      ]
     },
     "execution_count": 21,
     "metadata": {},
     "output_type": "execute_result"
    }
   ],
   "source": [
    "writer = vtk.vtkXMLUnstructuredGridWriter()\n",
    "writer.SetFileName(\"coupling_\"+str(n)+\".vtu\")\n",
    "grid = vtk.vtkUnstructuredGrid()\n",
    "points = vtk.vtkPoints()\n",
    "points.SetNumberOfPoints(len(x))\n",
    "points.SetDataTypeToDouble()\n",
    "\n",
    "for i in range(0,len(x)):\n",
    "    points.InsertPoint(i,x[i],y[i],0.)\n",
    "    \n",
    "grid.SetPoints(points)\n",
    "\n",
    "\n",
    "dataOut = grid.GetPointData()\n",
    "array = vtk.vtkDoubleArray()\n",
    "array.SetName(\"Volumes\")\n",
    "array.SetNumberOfComponents(1)\n",
    "array.SetNumberOfTuples(len(x))\n",
    "\n",
    "for i in range(0,len(x)):\n",
    "    array.SetTuple1(i,volume[i])\n",
    "dataOut.AddArray(array)\n",
    "\n",
    "\n",
    "writer.SetInputData(grid)\n",
    "writer.GetCompressor().SetCompressionLevel(0)\n",
    "writer.SetDataModeToAscii()\n",
    "writer.Write()"
   ]
  },
  {
   "cell_type": "code",
   "execution_count": 22,
   "id": "e34e8b07",
   "metadata": {},
   "outputs": [
    {
     "name": "stdout",
     "output_type": "stream",
     "text": [
      "Construct-aligned-mesh-example1.ipynb\n",
      "Construct-aligned-mesh-example2.ipynb\n",
      "coupling_128_pum.vtk\n",
      "coupling_128_pum.vtu\n",
      "coupling_128.vtk\n",
      "coupling_128.vtu\n",
      "coupling_16.vtk\n",
      "coupling_16.vtu\n",
      "coupling_32_pum.vtk\n",
      "coupling_32_pum.vtu\n",
      "coupling_32.vtk\n",
      "coupling_32.vtu\n",
      "coupling_512.vtu\n",
      "coupling_64.vtk\n",
      "coupling_64.vtu\n",
      "images-coarse.pvsm\n",
      "images-fine.pvsm\n",
      "input-2.yaml\n",
      "input.yaml\n",
      "out-coarse\n",
      "out-fine\n",
      "pd_cuttoff_damage-new-2.png\n",
      "pd_cuttoff_damage-new-2-slice.png\n",
      "pd_cuttoff_damage-new.png\n",
      "pd_cuttoff_damage-new-slice.png\n",
      "pd_cuttoff-new-2.png\n",
      "pd_cuttoff-new-2-slice.png\n",
      "pd_cuttoff-new.png\n",
      "pd_cuttoff-new-slice.png\n",
      "pum_modeI_constant-slice.png\n",
      "pum_modeI_dynamic-slice.png\n"
     ]
    }
   ],
   "source": [
    "%%bash \n",
    "ls"
   ]
  },
  {
   "cell_type": "code",
   "execution_count": 23,
   "id": "da8a4a87",
   "metadata": {},
   "outputs": [],
   "source": [
    "import meshio"
   ]
  },
  {
   "cell_type": "code",
   "execution_count": 24,
   "id": "db134866",
   "metadata": {},
   "outputs": [],
   "source": [
    "points = []\n",
    "cells = []\n",
    "for i in range(0,len(x)):\n",
    "    points.append([x[i],y[i],0])\n",
    "    cells.append((\"vertex\", [[i]]))"
   ]
  },
  {
   "cell_type": "code",
   "execution_count": 25,
   "id": "596687a7",
   "metadata": {},
   "outputs": [],
   "source": [
    "mesh = meshio.Mesh(\n",
    "    points,\n",
    "    cells,\n",
    "    # Optionally provide extra data on points, cells, etc.\n",
    "    point_data={\"Volume\": volume},\n",
    "    # Each item in cell data must match the cells array\n",
    ")\n",
    "mesh.write(\n",
    "    \"coupling_\"+str(n)+\".vtk\",  # str, os.PathLike, or buffer/open file\n",
    "    # file_format=\"vtk\",  # optional if first argument is a path; inferred from extension\n",
    ")"
   ]
  },
  {
   "cell_type": "code",
   "execution_count": 26,
   "id": "1408cb85",
   "metadata": {},
   "outputs": [
    {
     "name": "stdout",
     "output_type": "stream",
     "text": [
      "Construct-aligned-mesh-example1.ipynb\n",
      "Construct-aligned-mesh-example2.ipynb\n",
      "coupling_128_pum.vtk\n",
      "coupling_128_pum.vtu\n",
      "coupling_128.vtk\n",
      "coupling_128.vtu\n",
      "coupling_16.vtk\n",
      "coupling_16.vtu\n",
      "coupling_32_pum.vtk\n",
      "coupling_32_pum.vtu\n",
      "coupling_32.vtk\n",
      "coupling_32.vtu\n",
      "coupling_512.vtk\n",
      "coupling_512.vtu\n",
      "coupling_64.vtk\n",
      "coupling_64.vtu\n",
      "images-coarse.pvsm\n",
      "images-fine.pvsm\n",
      "input-2.yaml\n",
      "input.yaml\n",
      "out-coarse\n",
      "out-fine\n",
      "pd_cuttoff_damage-new-2.png\n",
      "pd_cuttoff_damage-new-2-slice.png\n",
      "pd_cuttoff_damage-new.png\n",
      "pd_cuttoff_damage-new-slice.png\n",
      "pd_cuttoff-new-2.png\n",
      "pd_cuttoff-new-2-slice.png\n",
      "pd_cuttoff-new.png\n",
      "pd_cuttoff-new-slice.png\n",
      "pum_modeI_constant-slice.png\n",
      "pum_modeI_dynamic-slice.png\n"
     ]
    }
   ],
   "source": [
    "%%bash \n",
    "ls"
   ]
  },
  {
   "cell_type": "code",
   "execution_count": 27,
   "id": "de75a6a0",
   "metadata": {},
   "outputs": [],
   "source": [
    "mesh = meshio.read(\n",
    "    \"coupling_\"+str(n)+\".vtk\",  # string, os.PathLike, or a buffer/open file\n",
    "    # file_format=\"stl\",  # optional if filename is a path; inferred from extension\n",
    "    # see meshio-convert -h for all possible formats\n",
    ")"
   ]
  }
 ],
 "metadata": {
  "kernelspec": {
   "display_name": "Python 3 (ipykernel)",
   "language": "python",
   "name": "python3"
  },
  "language_info": {
   "codemirror_mode": {
    "name": "ipython",
    "version": 3
   },
   "file_extension": ".py",
   "mimetype": "text/x-python",
   "name": "python",
   "nbconvert_exporter": "python",
   "pygments_lexer": "ipython3",
   "version": "3.10.6"
  }
 },
 "nbformat": 4,
 "nbformat_minor": 5
}
