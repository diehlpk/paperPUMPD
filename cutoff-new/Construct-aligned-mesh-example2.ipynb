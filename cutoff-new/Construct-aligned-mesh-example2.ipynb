{
 "cells": [
  {
   "cell_type": "code",
   "execution_count": 1,
   "metadata": {},
   "outputs": [],
   "source": [
    "import numpy as np"
   ]
  },
  {
   "cell_type": "code",
   "execution_count": 2,
   "metadata": {},
   "outputs": [],
   "source": [
    "import matplotlib.pyplot as plt"
   ]
  },
  {
   "cell_type": "code",
   "execution_count": 3,
   "metadata": {},
   "outputs": [],
   "source": [
    "import vtk"
   ]
  },
  {
   "cell_type": "code",
   "execution_count": 4,
   "metadata": {},
   "outputs": [],
   "source": [
    "xhalf = 0.02/2\n",
    "ymin = 0.01\n",
    "ymax = 0.02\n",
    "xcrack = 0.05\n",
    "ycrack = 0.01\n",
    "n = 128"
   ]
  },
  {
   "cell_type": "code",
   "execution_count": 5,
   "metadata": {},
   "outputs": [],
   "source": [
    "xarea = np.array([0,0,0.1,0.1,0])\n",
    "yarea = np.array([0,0.1,0.1,0,0])"
   ]
  },
  {
   "cell_type": "code",
   "execution_count": 6,
   "metadata": {},
   "outputs": [],
   "source": [
    "xareaPD = np.array([0.04,0.04,0.06,0.06,0.04])\n",
    "yareaPD = np.array([0.01,0.03,0.03,0.01,0.01])"
   ]
  },
  {
   "cell_type": "code",
   "execution_count": 7,
   "metadata": {},
   "outputs": [
    {
     "data": {
      "text/plain": [
       "7.781982421875001e-05"
      ]
     },
     "execution_count": 7,
     "metadata": {},
     "output_type": "execute_result"
    }
   ],
   "source": [
    "h = xhalf/n\n",
    "h\n",
    "h = (xhalf-h/2) / n\n",
    "h "
   ]
  },
  {
   "cell_type": "code",
   "execution_count": 8,
   "metadata": {},
   "outputs": [
    {
     "data": {
      "text/plain": [
       "0.0006225585937500001"
      ]
     },
     "execution_count": 8,
     "metadata": {},
     "output_type": "execute_result"
    }
   ],
   "source": [
    "delta = 8 * h\n",
    "delta"
   ]
  },
  {
   "cell_type": "code",
   "execution_count": 9,
   "metadata": {},
   "outputs": [],
   "source": [
    "x = []\n",
    "y = []\n",
    "volume = []\n",
    "for j in range(0,int(2*ycrack/h)+1):\n",
    "    for i in range(0,n+1):\n",
    "        x.append(0.05-h/2-i*h)\n",
    "        y.append(0.01+j*h)\n",
    "\n",
    "for j in range(0,int(2*ycrack/h)+1):\n",
    "    for i in range(0,n+1):\n",
    "        x.append(0.05+h/2+i*h)\n",
    "        y.append(0.01+j*h)\n",
    "    \n",
    "minx = min(x)\n",
    "maxx = max(x)\n",
    "miny = min(y)\n",
    "maxy = max(y)\n",
    "    \n",
    "for x_, y_ in zip(x,y) :\n",
    "    if x_ == minx or x_ == maxx or y_ == miny or y_ == maxy:\n",
    "        volume.append(h*h/2)\n",
    "    else:\n",
    "        volume.append(h*h)    "
   ]
  },
  {
   "cell_type": "code",
   "execution_count": 10,
   "metadata": {},
   "outputs": [],
   "source": [
    "amountleft = 0\n",
    "amountright = 0\n",
    "miny = min(y)\n",
    "lineleft = []\n",
    "lineright = []\n",
    "for x_, y_ in zip(x,y) :\n",
    "    if y_ == miny and x_ < 0.05 :\n",
    "        amountleft += 1\n",
    "        lineleft.append(x_)\n",
    "    if y_ == miny and x_ > 0.05 :\n",
    "        amountright += 1\n",
    "        lineright.append(x_)\n",
    "\n",
    "lineleft = np.sort(lineleft)\n",
    "lineright = np.sort(lineright)\n",
    "\n",
    "lineleft = np.array(lineleft)\n",
    "lineright = np.array(lineright)"
   ]
  },
  {
   "cell_type": "code",
   "execution_count": 11,
   "metadata": {},
   "outputs": [
    {
     "data": {
      "text/plain": [
       "array([9.96093750e-03, 9.88311768e-03, 9.80529785e-03, 9.72747803e-03,\n",
       "       9.64965820e-03, 9.57183838e-03, 9.49401855e-03, 9.41619873e-03,\n",
       "       9.33837891e-03, 9.26055908e-03, 9.18273926e-03, 9.10491943e-03,\n",
       "       9.02709961e-03, 8.94927979e-03, 8.87145996e-03, 8.79364014e-03,\n",
       "       8.71582031e-03, 8.63800049e-03, 8.56018066e-03, 8.48236084e-03,\n",
       "       8.40454102e-03, 8.32672119e-03, 8.24890137e-03, 8.17108154e-03,\n",
       "       8.09326172e-03, 8.01544189e-03, 7.93762207e-03, 7.85980225e-03,\n",
       "       7.78198242e-03, 7.70416260e-03, 7.62634277e-03, 7.54852295e-03,\n",
       "       7.47070312e-03, 7.39288330e-03, 7.31506348e-03, 7.23724365e-03,\n",
       "       7.15942383e-03, 7.08160400e-03, 7.00378418e-03, 6.92596436e-03,\n",
       "       6.84814453e-03, 6.77032471e-03, 6.69250488e-03, 6.61468506e-03,\n",
       "       6.53686523e-03, 6.45904541e-03, 6.38122559e-03, 6.30340576e-03,\n",
       "       6.22558594e-03, 6.14776611e-03, 6.06994629e-03, 5.99212646e-03,\n",
       "       5.91430664e-03, 5.83648682e-03, 5.75866699e-03, 5.68084717e-03,\n",
       "       5.60302734e-03, 5.52520752e-03, 5.44738770e-03, 5.36956787e-03,\n",
       "       5.29174805e-03, 5.21392822e-03, 5.13610840e-03, 5.05828857e-03,\n",
       "       4.98046875e-03, 4.90264893e-03, 4.82482910e-03, 4.74700928e-03,\n",
       "       4.66918945e-03, 4.59136963e-03, 4.51354980e-03, 4.43572998e-03,\n",
       "       4.35791016e-03, 4.28009033e-03, 4.20227051e-03, 4.12445068e-03,\n",
       "       4.04663086e-03, 3.96881104e-03, 3.89099121e-03, 3.81317139e-03,\n",
       "       3.73535156e-03, 3.65753174e-03, 3.57971191e-03, 3.50189209e-03,\n",
       "       3.42407227e-03, 3.34625244e-03, 3.26843262e-03, 3.19061279e-03,\n",
       "       3.11279297e-03, 3.03497314e-03, 2.95715332e-03, 2.87933350e-03,\n",
       "       2.80151367e-03, 2.72369385e-03, 2.64587402e-03, 2.56805420e-03,\n",
       "       2.49023437e-03, 2.41241455e-03, 2.33459473e-03, 2.25677490e-03,\n",
       "       2.17895508e-03, 2.10113525e-03, 2.02331543e-03, 1.94549561e-03,\n",
       "       1.86767578e-03, 1.78985596e-03, 1.71203613e-03, 1.63421631e-03,\n",
       "       1.55639648e-03, 1.47857666e-03, 1.40075684e-03, 1.32293701e-03,\n",
       "       1.24511719e-03, 1.16729736e-03, 1.08947754e-03, 1.01165771e-03,\n",
       "       9.33837891e-04, 8.56018066e-04, 7.78198242e-04, 7.00378418e-04,\n",
       "       6.22558594e-04, 5.44738770e-04, 4.66918945e-04, 3.89099121e-04,\n",
       "       3.11279297e-04, 2.33459473e-04, 1.55639648e-04, 7.78198242e-05,\n",
       "       0.00000000e+00])"
      ]
     },
     "execution_count": 11,
     "metadata": {},
     "output_type": "execute_result"
    }
   ],
   "source": [
    "0.05-h/2-lineleft"
   ]
  },
  {
   "cell_type": "code",
   "execution_count": 12,
   "metadata": {},
   "outputs": [
    {
     "data": {
      "text/plain": [
       "array([ 0.00000000e+00, -7.78198242e-05, -1.55639648e-04, -2.33459473e-04,\n",
       "       -3.11279297e-04, -3.89099121e-04, -4.66918945e-04, -5.44738770e-04,\n",
       "       -6.22558594e-04, -7.00378418e-04, -7.78198242e-04, -8.56018066e-04,\n",
       "       -9.33837891e-04, -1.01165771e-03, -1.08947754e-03, -1.16729736e-03,\n",
       "       -1.24511719e-03, -1.32293701e-03, -1.40075684e-03, -1.47857666e-03,\n",
       "       -1.55639648e-03, -1.63421631e-03, -1.71203613e-03, -1.78985596e-03,\n",
       "       -1.86767578e-03, -1.94549561e-03, -2.02331543e-03, -2.10113525e-03,\n",
       "       -2.17895508e-03, -2.25677490e-03, -2.33459473e-03, -2.41241455e-03,\n",
       "       -2.49023437e-03, -2.56805420e-03, -2.64587402e-03, -2.72369385e-03,\n",
       "       -2.80151367e-03, -2.87933350e-03, -2.95715332e-03, -3.03497314e-03,\n",
       "       -3.11279297e-03, -3.19061279e-03, -3.26843262e-03, -3.34625244e-03,\n",
       "       -3.42407227e-03, -3.50189209e-03, -3.57971191e-03, -3.65753174e-03,\n",
       "       -3.73535156e-03, -3.81317139e-03, -3.89099121e-03, -3.96881104e-03,\n",
       "       -4.04663086e-03, -4.12445068e-03, -4.20227051e-03, -4.28009033e-03,\n",
       "       -4.35791016e-03, -4.43572998e-03, -4.51354980e-03, -4.59136963e-03,\n",
       "       -4.66918945e-03, -4.74700928e-03, -4.82482910e-03, -4.90264893e-03,\n",
       "       -4.98046875e-03, -5.05828857e-03, -5.13610840e-03, -5.21392822e-03,\n",
       "       -5.29174805e-03, -5.36956787e-03, -5.44738770e-03, -5.52520752e-03,\n",
       "       -5.60302734e-03, -5.68084717e-03, -5.75866699e-03, -5.83648682e-03,\n",
       "       -5.91430664e-03, -5.99212646e-03, -6.06994629e-03, -6.14776611e-03,\n",
       "       -6.22558594e-03, -6.30340576e-03, -6.38122559e-03, -6.45904541e-03,\n",
       "       -6.53686523e-03, -6.61468506e-03, -6.69250488e-03, -6.77032471e-03,\n",
       "       -6.84814453e-03, -6.92596436e-03, -7.00378418e-03, -7.08160400e-03,\n",
       "       -7.15942383e-03, -7.23724365e-03, -7.31506348e-03, -7.39288330e-03,\n",
       "       -7.47070312e-03, -7.54852295e-03, -7.62634277e-03, -7.70416260e-03,\n",
       "       -7.78198242e-03, -7.85980225e-03, -7.93762207e-03, -8.01544189e-03,\n",
       "       -8.09326172e-03, -8.17108154e-03, -8.24890137e-03, -8.32672119e-03,\n",
       "       -8.40454102e-03, -8.48236084e-03, -8.56018066e-03, -8.63800049e-03,\n",
       "       -8.71582031e-03, -8.79364014e-03, -8.87145996e-03, -8.94927979e-03,\n",
       "       -9.02709961e-03, -9.10491943e-03, -9.18273926e-03, -9.26055908e-03,\n",
       "       -9.33837891e-03, -9.41619873e-03, -9.49401855e-03, -9.57183838e-03,\n",
       "       -9.64965820e-03, -9.72747803e-03, -9.80529785e-03, -9.88311768e-03,\n",
       "       -9.96093750e-03])"
      ]
     },
     "execution_count": 12,
     "metadata": {},
     "output_type": "execute_result"
    }
   ],
   "source": [
    "0.05+h/2-lineright"
   ]
  },
  {
   "cell_type": "code",
   "execution_count": 13,
   "metadata": {},
   "outputs": [],
   "source": [
    "z = np.linspace(0,1,len(lineleft))"
   ]
  },
  {
   "cell_type": "code",
   "execution_count": 14,
   "metadata": {},
   "outputs": [
    {
     "data": {
      "text/plain": [
       "[<matplotlib.lines.Line2D at 0x7f53cdb7fdf0>]"
      ]
     },
     "execution_count": 14,
     "metadata": {},
     "output_type": "execute_result"
    },
    {
     "data": {
      "image/png": "[encoded data removed]",
      "text/plain": [
       "<Figure size 432x288 with 1 Axes>"
      ]
     },
     "metadata": {
      "needs_background": "light"
     },
     "output_type": "display_data"
    }
   ],
   "source": [
    "plt.plot(z,np.sort(abs(0.05-h/2-lineleft)))\n",
    "plt.plot(z,abs(0.05+h/2-lineright))"
   ]
  },
  {
   "cell_type": "code",
   "execution_count": 15,
   "metadata": {},
   "outputs": [
    {
     "data": {
      "text/plain": [
       "0.04000015258789062"
      ]
     },
     "execution_count": 15,
     "metadata": {},
     "output_type": "execute_result"
    }
   ],
   "source": [
    "min(x)"
   ]
  },
  {
   "cell_type": "code",
   "execution_count": 16,
   "metadata": {},
   "outputs": [
    {
     "data": {
      "text/plain": [
       "0.05999984741210938"
      ]
     },
     "execution_count": 16,
     "metadata": {},
     "output_type": "execute_result"
    }
   ],
   "source": [
    "max(x)"
   ]
  },
  {
   "cell_type": "code",
   "execution_count": 17,
   "metadata": {},
   "outputs": [
    {
     "data": {
      "text/plain": [
       "0.01"
      ]
     },
     "execution_count": 17,
     "metadata": {},
     "output_type": "execute_result"
    }
   ],
   "source": [
    "min(y)"
   ]
  },
  {
   "cell_type": "code",
   "execution_count": 18,
   "metadata": {},
   "outputs": [
    {
     "data": {
      "text/plain": [
       "0.02999969482421875"
      ]
     },
     "execution_count": 18,
     "metadata": {},
     "output_type": "execute_result"
    }
   ],
   "source": [
    "max(y)"
   ]
  },
  {
   "cell_type": "code",
   "execution_count": 19,
   "metadata": {},
   "outputs": [
    {
     "data": {
      "text/plain": [
       "<matplotlib.collections.PathCollection at 0x7f5244a70700>"
      ]
     },
     "execution_count": 19,
     "metadata": {},
     "output_type": "execute_result"
    },
    {
     "data": {
      "image/png": "[encoded data removed]",
      "text/plain": [
       "<Figure size 432x288 with 1 Axes>"
      ]
     },
     "metadata": {
      "needs_background": "light"
     },
     "output_type": "display_data"
    }
   ],
   "source": [
    "plt.plot(xareaPD,yareaPD)\n",
    "plt.plot([0.05,0.05],[0.01,0.02])\n",
    "plt.scatter(x,y,c=volume)"
   ]
  },
  {
   "cell_type": "code",
   "execution_count": 20,
   "metadata": {},
   "outputs": [
    {
     "data": {
      "text/plain": [
       "<matplotlib.collections.PathCollection at 0x7f5244a26e30>"
      ]
     },
     "execution_count": 20,
     "metadata": {},
     "output_type": "execute_result"
    },
    {
     "data": {
      "image/png": "[encoded data removed]",
      "text/plain": [
       "<Figure size 432x288 with 1 Axes>"
      ]
     },
     "metadata": {
      "needs_background": "light"
     },
     "output_type": "display_data"
    }
   ],
   "source": [
    "plt.plot(xarea,yarea)\n",
    "plt.plot(xareaPD,yareaPD)\n",
    "plt.plot([0.05,0.05],[0,0.02])\n",
    "plt.scatter(x,y)"
   ]
  },
  {
   "cell_type": "code",
   "execution_count": 21,
   "metadata": {},
   "outputs": [
    {
     "data": {
      "text/plain": [
       "1"
      ]
     },
     "execution_count": 21,
     "metadata": {},
     "output_type": "execute_result"
    }
   ],
   "source": [
    "writer = vtk.vtkXMLUnstructuredGridWriter()\n",
    "writer.SetFileName(\"coupling_\"+str(n)+\".vtu\")\n",
    "grid = vtk.vtkUnstructuredGrid()\n",
    "points = vtk.vtkPoints()\n",
    "points.SetNumberOfPoints(len(x))\n",
    "points.SetDataTypeToDouble()\n",
    "\n",
    "for i in range(0,len(x)):\n",
    "    points.InsertPoint(i,x[i],y[i],0.)\n",
    "    \n",
    "grid.SetPoints(points)\n",
    "\n",
    "\n",
    "dataOut = grid.GetPointData()\n",
    "array = vtk.vtkDoubleArray()\n",
    "array.SetName(\"Volumes\")\n",
    "array.SetNumberOfComponents(1)\n",
    "array.SetNumberOfTuples(len(x))\n",
    "\n",
    "for i in range(0,len(x)):\n",
    "    array.SetTuple1(i,volume[i])\n",
    "dataOut.AddArray(array)\n",
    "\n",
    "\n",
    "writer.SetInputData(grid)\n",
    "writer.GetCompressor().SetCompressionLevel(0)\n",
    "writer.SetDataModeToAscii()\n",
    "writer.Write()"
   ]
  },
  {
   "cell_type": "code",
   "execution_count": 22,
   "metadata": {},
   "outputs": [
    {
     "name": "stdout",
     "output_type": "stream",
     "text": [
      "Construct-aligned-mesh-example1.ipynb\n",
      "Construct-aligned-mesh-example2.ipynb\n",
      "coupling_128.vtk\n",
      "coupling_128.vtu\n",
      "coupling_16.vtk\n",
      "coupling_16.vtu\n",
      "coupling_32_pum.vtk\n",
      "coupling_32_pum.vtu\n",
      "coupling_32.vtk\n",
      "coupling_32.vtu\n",
      "coupling_64.vtk\n",
      "coupling_64.vtu\n",
      "input.yaml\n",
      "out-coarse\n"
     ]
    }
   ],
   "source": [
    "%%bash \n",
    "ls"
   ]
  },
  {
   "cell_type": "code",
   "execution_count": 23,
   "metadata": {},
   "outputs": [],
   "source": [
    "import meshio"
   ]
  },
  {
   "cell_type": "code",
   "execution_count": 24,
   "metadata": {},
   "outputs": [],
   "source": [
    "points = []\n",
    "cells = []\n",
    "for i in range(0,len(x)):\n",
    "    points.append([x[i],y[i],0])\n",
    "    cells.append((\"vertex\", [[i]]))"
   ]
  },
  {
   "cell_type": "code",
   "execution_count": 25,
   "metadata": {},
   "outputs": [],
   "source": [
    "mesh = meshio.Mesh(\n",
    "    points,\n",
    "    cells,\n",
    "    # Optionally provide extra data on points, cells, etc.\n",
    "    point_data={\"Volume\": volume},\n",
    "    # Each item in cell data must match the cells array\n",
    ")\n",
    "mesh.write(\n",
    "    \"coupling_\"+str(n)+\".vtk\",  # str, os.PathLike, or buffer/open file\n",
    "    # file_format=\"vtk\",  # optional if first argument is a path; inferred from extension\n",
    ")"
   ]
  },
  {
   "cell_type": "code",
   "execution_count": 26,
   "metadata": {},
   "outputs": [
    {
     "name": "stdout",
     "output_type": "stream",
     "text": [
      "Construct-aligned-mesh-example1.ipynb\n",
      "Construct-aligned-mesh-example2.ipynb\n",
      "coupling_128.vtk\n",
      "coupling_128.vtu\n",
      "coupling_16.vtk\n",
      "coupling_16.vtu\n",
      "coupling_32_pum.vtk\n",
      "coupling_32_pum.vtu\n",
      "coupling_32.vtk\n",
      "coupling_32.vtu\n",
      "coupling_64.vtk\n",
      "coupling_64.vtu\n",
      "input.yaml\n",
      "out-coarse\n"
     ]
    }
   ],
   "source": [
    "%%bash \n",
    "ls"
   ]
  },
  {
   "cell_type": "code",
   "execution_count": 27,
   "metadata": {},
   "outputs": [],
   "source": [
    "mesh = meshio.read(\n",
    "    \"coupling_\"+str(n)+\".vtk\",  # string, os.PathLike, or a buffer/open file\n",
    "    # file_format=\"stl\",  # optional if filename is a path; inferred from extension\n",
    "    # see meshio-convert -h for all possible formats\n",
    ")"
   ]
  }
 ],
 "metadata": {
  "kernelspec": {
   "display_name": "Python 3",
   "language": "python",
   "name": "python3"
  },
  "language_info": {
   "codemirror_mode": {
    "name": "ipython",
    "version": 3
   },
   "file_extension": ".py",
   "mimetype": "text/x-python",
   "name": "python",
   "nbconvert_exporter": "python",
   "pygments_lexer": "ipython3",
   "version": "3.10.2"
  }
 },
 "nbformat": 4,
 "nbformat_minor": 5
}
