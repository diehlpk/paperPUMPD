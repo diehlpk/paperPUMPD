{
 "cells": [
  {
   "cell_type": "code",
   "execution_count": 1,
   "metadata": {},
   "outputs": [],
   "source": [
    "import numpy as np"
   ]
  },
  {
   "cell_type": "code",
   "execution_count": 2,
   "metadata": {},
   "outputs": [],
   "source": [
    "import matplotlib.pyplot as plt"
   ]
  },
  {
   "cell_type": "code",
   "execution_count": 3,
   "metadata": {},
   "outputs": [],
   "source": [
    "import vtk"
   ]
  },
  {
   "cell_type": "code",
   "execution_count": 4,
   "metadata": {},
   "outputs": [],
   "source": [
    "xhalf = 0.02/2\n",
    "ymin = 0.01\n",
    "ymax = 0.02\n",
    "xcrack = 0.05\n",
    "ycrack = 0.01\n",
    "n = 128"
   ]
  },
  {
   "cell_type": "code",
   "execution_count": 5,
   "metadata": {},
   "outputs": [],
   "source": [
    "xarea = np.array([0,0,0.1,0.1,0])\n",
    "yarea = np.array([0,0.1,0.1,0,0])"
   ]
  },
  {
   "cell_type": "code",
   "execution_count": 6,
   "metadata": {},
   "outputs": [],
   "source": [
    "xareaPD = np.array([0.04,0.04,0.06,0.06,0.04])\n",
    "yareaPD = np.array([0.01,0.03,0.03,0.01,0.01])"
   ]
  },
  {
   "cell_type": "code",
   "execution_count": 7,
   "metadata": {},
   "outputs": [
    {
     "data": {
      "text/plain": [
       "7.781982421875001e-05"
      ]
     },
     "execution_count": 7,
     "metadata": {},
     "output_type": "execute_result"
    }
   ],
   "source": [
    "h = xhalf/n\n",
    "h\n",
    "h = (xhalf-h/2) / n\n",
    "h "
   ]
  },
  {
   "cell_type": "code",
   "execution_count": 8,
   "metadata": {},
   "outputs": [
    {
     "data": {
      "text/plain": [
       "0.0006225585937500001"
      ]
     },
     "execution_count": 8,
     "metadata": {},
     "output_type": "execute_result"
    }
   ],
   "source": [
    "delta = 8 * h\n",
    "delta"
   ]
  },
  {
   "cell_type": "code",
   "execution_count": 9,
   "metadata": {},
   "outputs": [],
   "source": [
    "x = []\n",
    "y = []\n",
    "volume = []\n",
    "for j in range(0,int(2*ycrack/h)+1):\n",
    "    for i in range(0,2*n+2):\n",
    "        x.append(0.04+i*h)\n",
    "        y.append(0.01+j*h)\n",
    "        if i == 0 or i == 2*n+1 or j == 0 or j == int(2*ycrack/h) :\n",
    "            volume.append(h*h/2)\n",
    "        else:\n",
    "            volume.append(h*h)\n",
    "        \n",
    "    "
   ]
  },
  {
   "cell_type": "code",
   "execution_count": null,
   "metadata": {},
   "outputs": [],
   "source": []
  },
  {
   "cell_type": "code",
   "execution_count": 10,
   "metadata": {},
   "outputs": [
    {
     "data": {
      "text/plain": [
       "<matplotlib.collections.PathCollection at 0x7f77b0f0dde0>"
      ]
     },
     "execution_count": 10,
     "metadata": {},
     "output_type": "execute_result"
    },
    {
     "data": {
      "image/png": "[encoded data removed]",
      "text/plain": [
       "<Figure size 432x288 with 1 Axes>"
      ]
     },
     "metadata": {
      "needs_background": "light"
     },
     "output_type": "display_data"
    }
   ],
   "source": [
    "plt.plot(xareaPD,yareaPD)\n",
    "plt.plot([0.05,0.05],[0.01,0.02])\n",
    "plt.scatter(x,y,c=volume)"
   ]
  },
  {
   "cell_type": "code",
   "execution_count": 11,
   "metadata": {},
   "outputs": [
    {
     "data": {
      "text/plain": [
       "<matplotlib.collections.PathCollection at 0x7f77c188f790>"
      ]
     },
     "execution_count": 11,
     "metadata": {},
     "output_type": "execute_result"
    },
    {
     "data": {
      "image/png": "[encoded data removed]",
      "text/plain": [
       "<Figure size 432x288 with 1 Axes>"
      ]
     },
     "metadata": {
      "needs_background": "light"
     },
     "output_type": "display_data"
    }
   ],
   "source": [
    "plt.plot(xarea,yarea)\n",
    "plt.plot(xareaPD,yareaPD)\n",
    "plt.plot([0.05,0.05],[0,0.02])\n",
    "plt.scatter(x,y)"
   ]
  },
  {
   "cell_type": "code",
   "execution_count": 12,
   "metadata": {},
   "outputs": [
    {
     "data": {
      "text/plain": [
       "1"
      ]
     },
     "execution_count": 12,
     "metadata": {},
     "output_type": "execute_result"
    }
   ],
   "source": [
    "writer = vtk.vtkXMLUnstructuredGridWriter()\n",
    "writer.SetFileName(\"coupling_\"+str(n)+\".vtu\")\n",
    "grid = vtk.vtkUnstructuredGrid()\n",
    "points = vtk.vtkPoints()\n",
    "points.SetNumberOfPoints(len(x))\n",
    "points.SetDataTypeToDouble()\n",
    "\n",
    "for i in range(0,len(x)):\n",
    "    points.InsertPoint(i,x[i],y[i],0.)\n",
    "    \n",
    "grid.SetPoints(points)\n",
    "\n",
    "\n",
    "dataOut = grid.GetPointData()\n",
    "array = vtk.vtkDoubleArray()\n",
    "array.SetName(\"Volumes\")\n",
    "array.SetNumberOfComponents(1)\n",
    "array.SetNumberOfTuples(len(x))\n",
    "\n",
    "for i in range(0,len(x)):\n",
    "    array.SetTuple1(i,volume[i])\n",
    "dataOut.AddArray(array)\n",
    "\n",
    "\n",
    "writer.SetInputData(grid)\n",
    "writer.GetCompressor().SetCompressionLevel(0)\n",
    "writer.SetDataModeToAscii()\n",
    "writer.Write()"
   ]
  },
  {
   "cell_type": "code",
   "execution_count": 13,
   "metadata": {},
   "outputs": [
    {
     "name": "stdout",
     "output_type": "stream",
     "text": [
      "Construct-aligned-mesh-example1.ipynb\n",
      "Construct-aligned-mesh-example2.ipynb\n",
      "coupling_128.vtu\n",
      "coupling_16.vtk\n",
      "coupling_16.vtu\n",
      "coupling_32.vtk\n",
      "coupling_32.vtu\n",
      "coupling_64.vtk\n",
      "coupling_64.vtu\n"
     ]
    }
   ],
   "source": [
    "%%bash \n",
    "ls"
   ]
  },
  {
   "cell_type": "code",
   "execution_count": 14,
   "metadata": {},
   "outputs": [],
   "source": [
    "import meshio"
   ]
  },
  {
   "cell_type": "code",
   "execution_count": 15,
   "metadata": {},
   "outputs": [],
   "source": [
    "points = []\n",
    "cells = []\n",
    "for i in range(0,len(x)):\n",
    "    points.append([x[i],y[i],0])\n",
    "    cells.append((\"vertex\", [[i]]))"
   ]
  },
  {
   "cell_type": "code",
   "execution_count": 16,
   "metadata": {},
   "outputs": [],
   "source": [
    "mesh = meshio.Mesh(\n",
    "    points,\n",
    "    cells,\n",
    "    # Optionally provide extra data on points, cells, etc.\n",
    "    point_data={\"Volume\": volume},\n",
    "    # Each item in cell data must match the cells array\n",
    ")\n",
    "mesh.write(\n",
    "    \"coupling_\"+str(n)+\".vtk\",  # str, os.PathLike, or buffer/open file\n",
    "    # file_format=\"vtk\",  # optional if first argument is a path; inferred from extension\n",
    ")"
   ]
  },
  {
   "cell_type": "code",
   "execution_count": 17,
   "metadata": {},
   "outputs": [
    {
     "name": "stdout",
     "output_type": "stream",
     "text": [
      "Construct-aligned-mesh-example1.ipynb\n",
      "Construct-aligned-mesh-example2.ipynb\n",
      "coupling_128.vtk\n",
      "coupling_128.vtu\n",
      "coupling_16.vtk\n",
      "coupling_16.vtu\n",
      "coupling_32.vtk\n",
      "coupling_32.vtu\n",
      "coupling_64.vtk\n",
      "coupling_64.vtu\n"
     ]
    }
   ],
   "source": [
    "%%bash \n",
    "ls"
   ]
  },
  {
   "cell_type": "code",
   "execution_count": 18,
   "metadata": {},
   "outputs": [],
   "source": [
    "mesh = meshio.read(\n",
    "    \"coupling_\"+str(n)+\".vtk\",  # string, os.PathLike, or a buffer/open file\n",
    "    # file_format=\"stl\",  # optional if filename is a path; inferred from extension\n",
    "    # see meshio-convert -h for all possible formats\n",
    ")"
   ]
  }
 ],
 "metadata": {
  "kernelspec": {
   "display_name": "Python 3",
   "language": "python",
   "name": "python3"
  },
  "language_info": {
   "codemirror_mode": {
    "name": "ipython",
    "version": 3
   },
   "file_extension": ".py",
   "mimetype": "text/x-python",
   "name": "python",
   "nbconvert_exporter": "python",
   "pygments_lexer": "ipython3",
   "version": "3.10.2"
  }
 },
 "nbformat": 4,
 "nbformat_minor": 5
}
