{
 "cells": [
  {
   "cell_type": "code",
   "execution_count": 25,
   "id": "c1b44c74",
   "metadata": {},
   "outputs": [],
   "source": [
    "import vtk\n",
    "import numpy as np\n",
    "from vtk.util import numpy_support as VN\n",
    "import meshio"
   ]
  },
  {
   "cell_type": "code",
   "execution_count": 44,
   "id": "c7b3e830",
   "metadata": {},
   "outputs": [],
   "source": [
    "reader = vtk.vtkXMLUnstructuredGridReader()\n",
    "reader.SetFileName(\"out-64/output_99.vtu\")\n",
    "reader.Update()"
   ]
  },
  {
   "cell_type": "code",
   "execution_count": 45,
   "id": "6bd0528a",
   "metadata": {},
   "outputs": [],
   "source": [
    "data = reader.GetOutput()"
   ]
  },
  {
   "cell_type": "code",
   "execution_count": 46,
   "id": "2193b3b7",
   "metadata": {},
   "outputs": [],
   "source": [
    "x = np.zeros(data.GetNumberOfPoints())\n",
    "y = np.zeros(data.GetNumberOfPoints())\n",
    "z = np.zeros(data.GetNumberOfPoints())\n",
    "\n",
    "for i in range(data.GetNumberOfPoints()):\n",
    "        x[i],y[i],z[i] = data.GetPoint(i)"
   ]
  },
  {
   "cell_type": "code",
   "execution_count": 55,
   "id": "03fb61a9",
   "metadata": {},
   "outputs": [],
   "source": [
    "d = VN.vtk_to_numpy(data.GetPointData().GetArray(\"Displacement\"))"
   ]
  },
  {
   "cell_type": "code",
   "execution_count": null,
   "id": "1fb2d919",
   "metadata": {},
   "outputs": [],
   "source": []
  },
  {
   "cell_type": "code",
   "execution_count": 29,
   "id": "24e7d1a8",
   "metadata": {},
   "outputs": [],
   "source": [
    "points = []\n",
    "cells = []\n",
    "for i in range(0,len(x)):\n",
    "    points.append([x[i],y[i],0])\n",
    "    cells.append((\"vertex\", [[i]]))"
   ]
  },
  {
   "cell_type": "code",
   "execution_count": 57,
   "id": "9322f80e",
   "metadata": {},
   "outputs": [],
   "source": [
    "mesh = meshio.Mesh(\n",
    "    points,\n",
    "    cells,\n",
    "    # Optionally provide extra data on points, cells, etc.\n",
    "    point_data={\"Displacement\": d},\n",
    "    # Each item in cell data must match the cells array\n",
    ")\n",
    "mesh.write(\n",
    "    \"converted_64.vtk\",  # str, os.PathLike, or buffer/open file\n",
    "    # file_format=\"vtk\",  # optional if first argument is a path; inferred from extension\n",
    ")"
   ]
  },
  {
   "cell_type": "code",
   "execution_count": null,
   "id": "96c7c118",
   "metadata": {},
   "outputs": [],
   "source": []
  },
  {
   "cell_type": "code",
   "execution_count": null,
   "id": "91cad201",
   "metadata": {},
   "outputs": [],
   "source": []
  }
 ],
 "metadata": {
  "kernelspec": {
   "display_name": "Python 3 (ipykernel)",
   "language": "python",
   "name": "python3"
  },
  "language_info": {
   "codemirror_mode": {
    "name": "ipython",
    "version": 3
   },
   "file_extension": ".py",
   "mimetype": "text/x-python",
   "name": "python",
   "nbconvert_exporter": "python",
   "pygments_lexer": "ipython3",
   "version": "3.10.7"
  }
 },
 "nbformat": 4,
 "nbformat_minor": 5
}
