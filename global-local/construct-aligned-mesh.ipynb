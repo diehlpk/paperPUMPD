{
 "cells": [
  {
   "cell_type": "code",
   "execution_count": 1,
   "id": "8da1514f",
   "metadata": {},
   "outputs": [],
   "source": [
    "import numpy as np"
   ]
  },
  {
   "cell_type": "code",
   "execution_count": 2,
   "id": "73120c56",
   "metadata": {},
   "outputs": [],
   "source": [
    "import matplotlib.pyplot as plt"
   ]
  },
  {
   "cell_type": "code",
   "execution_count": 3,
   "id": "4d689963",
   "metadata": {},
   "outputs": [],
   "source": [
    "import vtk"
   ]
  },
  {
   "cell_type": "code",
   "execution_count": 4,
   "id": "93feba87",
   "metadata": {},
   "outputs": [],
   "source": [
    "n = 32\n",
    "h = 1 / n"
   ]
  },
  {
   "cell_type": "code",
   "execution_count": 5,
   "id": "613c7237",
   "metadata": {},
   "outputs": [
    {
     "data": {
      "text/plain": [
       "0.03125"
      ]
     },
     "execution_count": 5,
     "metadata": {},
     "output_type": "execute_result"
    }
   ],
   "source": [
    "h"
   ]
  },
  {
   "cell_type": "code",
   "execution_count": 6,
   "id": "a4564b70",
   "metadata": {},
   "outputs": [
    {
     "data": {
      "text/plain": [
       "0.125"
      ]
     },
     "execution_count": 6,
     "metadata": {},
     "output_type": "execute_result"
    }
   ],
   "source": [
    "delta = 4 * h\n",
    "delta"
   ]
  },
  {
   "cell_type": "code",
   "execution_count": 7,
   "id": "dcecb1b9",
   "metadata": {},
   "outputs": [],
   "source": [
    "xcrack = 10 - (5-delta) + h"
   ]
  },
  {
   "cell_type": "code",
   "execution_count": 8,
   "id": "5d12aab2",
   "metadata": {},
   "outputs": [
    {
     "data": {
      "text/plain": [
       "5.15625"
      ]
     },
     "execution_count": 8,
     "metadata": {},
     "output_type": "execute_result"
    }
   ],
   "source": [
    "xcrack"
   ]
  },
  {
   "cell_type": "code",
   "execution_count": 9,
   "id": "f699dd4a",
   "metadata": {},
   "outputs": [],
   "source": [
    "ycrack=4"
   ]
  },
  {
   "cell_type": "code",
   "execution_count": 10,
   "id": "3ebb57b0",
   "metadata": {},
   "outputs": [],
   "source": [
    "xarea = np.array([0,10,10,0,0])\n",
    "yarea = np.array([0,0,10,10,0])"
   ]
  },
  {
   "cell_type": "code",
   "execution_count": 11,
   "id": "88b15b0a",
   "metadata": {},
   "outputs": [],
   "source": [
    "xstart = (5-delta + h) / 100\n",
    "xareaPD = np.array([xstart,0.1,0.1,xstart,xstart]) * 100\n",
    "yareaPD = np.array([0.03,0.03,0.07,0.07,0.03]) * 100"
   ]
  },
  {
   "cell_type": "code",
   "execution_count": null,
   "id": "cdfb0e45",
   "metadata": {},
   "outputs": [],
   "source": [
    " "
   ]
  },
  {
   "cell_type": "code",
   "execution_count": null,
   "id": "66125735",
   "metadata": {},
   "outputs": [],
   "source": []
  },
  {
   "cell_type": "code",
   "execution_count": 12,
   "id": "10c94cb2",
   "metadata": {},
   "outputs": [],
   "source": [
    "startx = 5-delta + h"
   ]
  },
  {
   "cell_type": "code",
   "execution_count": 13,
   "id": "7b04349a",
   "metadata": {},
   "outputs": [],
   "source": [
    "x = []\n",
    "y = []\n",
    "volume = []\n",
    "for j in range(0,int(ycrack/h)+1):\n",
    "    for i in range(0,int(xcrack/h)-1):\n",
    "        x.append(startx+i*h)\n",
    "        y.append(3+j*h)\n",
    "        if i == 0 or i == int(xcrack/h)-2 or j == 0 or j == int(ycrack/h) :\n",
    "            volume.append(h*h/2)\n",
    "        else:\n",
    "            volume.append(h*h)\n",
    "        \n",
    "    "
   ]
  },
  {
   "cell_type": "code",
   "execution_count": 14,
   "id": "9595274d",
   "metadata": {
    "scrolled": true
   },
   "outputs": [
    {
     "data": {
      "image/png": "[encoded data removed]",
      "text/plain": [
       "<Figure size 432x288 with 1 Axes>"
      ]
     },
     "metadata": {
      "needs_background": "light"
     },
     "output_type": "display_data"
    }
   ],
   "source": [
    "plt.plot(xareaPD,yareaPD)\n",
    "plt.plot([0.,5],[5,5])\n",
    "plt.scatter(x,y,c=volume)\n",
    "plt.savefig(\"mesh.pdf\")"
   ]
  },
  {
   "cell_type": "code",
   "execution_count": 15,
   "id": "80641e77",
   "metadata": {},
   "outputs": [
    {
     "data": {
      "text/plain": [
       "4.90625"
      ]
     },
     "execution_count": 15,
     "metadata": {},
     "output_type": "execute_result"
    }
   ],
   "source": [
    "min(x)"
   ]
  },
  {
   "cell_type": "code",
   "execution_count": 16,
   "id": "2b6bac6d",
   "metadata": {},
   "outputs": [
    {
     "data": {
      "text/plain": [
       "3.0"
      ]
     },
     "execution_count": 16,
     "metadata": {},
     "output_type": "execute_result"
    }
   ],
   "source": [
    "min(y)"
   ]
  },
  {
   "cell_type": "code",
   "execution_count": 17,
   "id": "04fe0e0c",
   "metadata": {},
   "outputs": [
    {
     "data": {
      "text/plain": [
       "10.0"
      ]
     },
     "execution_count": 17,
     "metadata": {},
     "output_type": "execute_result"
    }
   ],
   "source": [
    "max(x)"
   ]
  },
  {
   "cell_type": "code",
   "execution_count": 18,
   "id": "02562403",
   "metadata": {},
   "outputs": [
    {
     "data": {
      "text/plain": [
       "7.0"
      ]
     },
     "execution_count": 18,
     "metadata": {},
     "output_type": "execute_result"
    }
   ],
   "source": [
    "max(y)"
   ]
  },
  {
   "cell_type": "code",
   "execution_count": 19,
   "id": "7694973d",
   "metadata": {
    "scrolled": true
   },
   "outputs": [
    {
     "data": {
      "text/plain": [
       "<matplotlib.collections.PathCollection at 0x7fd013ad8d90>"
      ]
     },
     "execution_count": 19,
     "metadata": {},
     "output_type": "execute_result"
    },
    {
     "data": {
      "image/png": "[encoded data removed]",
      "text/plain": [
       "<Figure size 432x288 with 1 Axes>"
      ]
     },
     "metadata": {
      "needs_background": "light"
     },
     "output_type": "display_data"
    }
   ],
   "source": [
    "plt.plot(xarea,yarea)\n",
    "plt.plot(xareaPD,yareaPD)\n",
    "plt.plot([0.0,5],[5,5])\n",
    "plt.scatter(x,y)"
   ]
  },
  {
   "cell_type": "code",
   "execution_count": 20,
   "id": "11dd4b38",
   "metadata": {},
   "outputs": [
    {
     "data": {
      "text/plain": [
       "1"
      ]
     },
     "execution_count": 20,
     "metadata": {},
     "output_type": "execute_result"
    }
   ],
   "source": [
    "writer = vtk.vtkXMLUnstructuredGridWriter()\n",
    "writer.SetFileName(\"coupling_\"+str(n)+\".vtu\")\n",
    "grid = vtk.vtkUnstructuredGrid()\n",
    "points = vtk.vtkPoints()\n",
    "points.SetNumberOfPoints(len(x))\n",
    "points.SetDataTypeToDouble()\n",
    "\n",
    "for i in range(0,len(x)):\n",
    "    points.InsertPoint(i,x[i],y[i],0.)\n",
    "    \n",
    "grid.SetPoints(points)\n",
    "\n",
    "\n",
    "dataOut = grid.GetPointData()\n",
    "array = vtk.vtkDoubleArray()\n",
    "array.SetName(\"Volumes\")\n",
    "array.SetNumberOfComponents(1)\n",
    "array.SetNumberOfTuples(len(x))\n",
    "\n",
    "for i in range(0,len(x)):\n",
    "    array.SetTuple1(i,volume[i])\n",
    "dataOut.AddArray(array)\n",
    "\n",
    "\n",
    "writer.SetInputData(grid)\n",
    "writer.GetCompressor().SetCompressionLevel(0)\n",
    "writer.SetDataModeToAscii()\n",
    "writer.Write()"
   ]
  },
  {
   "cell_type": "code",
   "execution_count": 21,
   "id": "56a03b25",
   "metadata": {},
   "outputs": [
    {
     "name": "stdout",
     "output_type": "stream",
     "text": [
      ":\n",
      "construct-aligned-mesh-all-crack.ipynb\n",
      "construct-aligned-mesh.ipynb\n",
      "coupling_32.vtu\n",
      "damage-15.png\n",
      "hpx.102676.log\n",
      "hpx.98883.log\n",
      "input-15-32.yaml\n",
      "input-15.yaml\n",
      "input-18-32.yaml\n",
      "input-18.yaml\n",
      "input-19.yaml\n",
      "input-20.yaml\n",
      "input-30.yaml\n",
      "input-35.yaml\n",
      "input-40.yaml\n",
      "input-9.yaml\n",
      "input-pd.yaml\n",
      "input.yaml\n",
      "mesh.geo\n",
      "mesh.msh\n",
      "mesh.pdf\n",
      "out-16-15\n",
      "out-16-18\n",
      "out-16-19\n",
      "out-16-20\n",
      "out-16-30\n",
      "out-16-35\n",
      "out-16-40\n",
      "out-16-9\n",
      "out-32-15\n",
      "out-32-18\n",
      "out-32-20\n",
      "out-pd\n"
     ]
    }
   ],
   "source": [
    "%%bash \n",
    "ls"
   ]
  },
  {
   "cell_type": "code",
   "execution_count": 22,
   "id": "696b7949",
   "metadata": {},
   "outputs": [],
   "source": [
    "import meshio"
   ]
  },
  {
   "cell_type": "code",
   "execution_count": 23,
   "id": "d01aa250",
   "metadata": {},
   "outputs": [],
   "source": [
    "points = []\n",
    "cells = []\n",
    "for i in range(0,len(x)):\n",
    "    points.append([x[i],y[i],0])\n",
    "    cells.append((\"vertex\", [[i]]))"
   ]
  },
  {
   "cell_type": "code",
   "execution_count": 24,
   "id": "7ec5c333",
   "metadata": {},
   "outputs": [],
   "source": [
    "mesh = meshio.Mesh(\n",
    "    points,\n",
    "    cells,\n",
    "    # Optionally provide extra data on points, cells, etc.\n",
    "    point_data={\"Volume\": volume},\n",
    "    # Each item in cell data must match the cells array\n",
    ")\n",
    "mesh.write(\n",
    "    \"coupling_\"+str(n)+\".vtk\",  # str, os.PathLike, or buffer/open file\n",
    "    # file_format=\"vtk\",  # optional if first argument is a path; inferred from extension\n",
    ")"
   ]
  },
  {
   "cell_type": "code",
   "execution_count": 25,
   "id": "8099b545",
   "metadata": {},
   "outputs": [
    {
     "name": "stdout",
     "output_type": "stream",
     "text": [
      ":\n",
      "construct-aligned-mesh-all-crack.ipynb\n",
      "construct-aligned-mesh.ipynb\n",
      "coupling_32.vtk\n",
      "coupling_32.vtu\n",
      "damage-15.png\n",
      "hpx.102676.log\n",
      "hpx.98883.log\n",
      "input-15-32.yaml\n",
      "input-15.yaml\n",
      "input-18-32.yaml\n",
      "input-18.yaml\n",
      "input-19.yaml\n",
      "input-20.yaml\n",
      "input-30.yaml\n",
      "input-35.yaml\n",
      "input-40.yaml\n",
      "input-9.yaml\n",
      "input-pd.yaml\n",
      "input.yaml\n",
      "mesh.geo\n",
      "mesh.msh\n",
      "mesh.pdf\n",
      "out-16-15\n",
      "out-16-18\n",
      "out-16-19\n",
      "out-16-20\n",
      "out-16-30\n",
      "out-16-35\n",
      "out-16-40\n",
      "out-16-9\n",
      "out-32-15\n",
      "out-32-18\n",
      "out-32-20\n",
      "out-pd\n"
     ]
    }
   ],
   "source": [
    "%%bash \n",
    "ls"
   ]
  },
  {
   "cell_type": "code",
   "execution_count": 26,
   "id": "b4bf0dd4",
   "metadata": {},
   "outputs": [],
   "source": [
    "mesh = meshio.read(\n",
    "    \"coupling_\"+str(n)+\".vtk\",  # string, os.PathLike, or a buffer/open file\n",
    "    # file_format=\"stl\",  # optional if filename is a path; inferred from extension\n",
    "    # see meshio-convert -h for all possible formats\n",
    ")"
   ]
  },
  {
   "cell_type": "code",
   "execution_count": null,
   "id": "1ff0de3c",
   "metadata": {},
   "outputs": [],
   "source": []
  }
 ],
 "metadata": {
  "kernelspec": {
   "display_name": "Python 3",
   "language": "python",
   "name": "python3"
  },
  "language_info": {
   "codemirror_mode": {
    "name": "ipython",
    "version": 3
   },
   "file_extension": ".py",
   "mimetype": "text/x-python",
   "name": "python",
   "nbconvert_exporter": "python",
   "pygments_lexer": "ipython3",
   "version": "3.10.4"
  }
 },
 "nbformat": 4,
 "nbformat_minor": 5
}
