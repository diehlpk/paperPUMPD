{
 "cells": [
  {
   "cell_type": "code",
   "execution_count": 1,
   "metadata": {},
   "outputs": [],
   "source": [
    "\n",
    "import numpy as np"
   ]
  },
  {
   "cell_type": "code",
   "execution_count": 2,
   "metadata": {},
   "outputs": [],
   "source": [
    "import matplotlib.pyplot as plt"
   ]
  },
  {
   "cell_type": "code",
   "execution_count": 3,
   "metadata": {},
   "outputs": [],
   "source": [
    "import vtk"
   ]
  },
  {
   "cell_type": "code",
   "execution_count": 4,
   "metadata": {},
   "outputs": [],
   "source": [
    "xhalf = 0.02/2\n",
    "ymin = 0.01\n",
    "ymax = 0.02\n",
    "xcrack = 0.05\n",
    "ycrack = 0.01\n",
    "n = 32"
   ]
  },
  {
   "cell_type": "code",
   "execution_count": 5,
   "metadata": {},
   "outputs": [],
   "source": [
    "xarea = np.array([0,0,0.1,0.1,0])\n",
    "yarea = np.array([0,0.1,0.1,0,0])"
   ]
  },
  {
   "cell_type": "code",
   "execution_count": 6,
   "metadata": {},
   "outputs": [],
   "source": [
    "xareaPD = np.array([0.04,0.04,0.06,0.06,0.04])\n",
    "yareaPD = np.array([0.01,0.03,0.03,0.01,0.01])"
   ]
  },
  {
   "cell_type": "code",
   "execution_count": 7,
   "metadata": {},
   "outputs": [
    {
     "data": {
      "text/plain": [
       "0.0003076171875"
      ]
     },
     "execution_count": 7,
     "metadata": {},
     "output_type": "execute_result"
    }
   ],
   "source": [
    "h = xhalf/n\n",
    "h\n",
    "h = (xhalf-h/2) / n\n",
    "h "
   ]
  },
  {
   "cell_type": "code",
   "execution_count": 8,
   "metadata": {},
   "outputs": [
    {
     "data": {
      "text/plain": [
       "0.00123046875"
      ]
     },
     "execution_count": 8,
     "metadata": {},
     "output_type": "execute_result"
    }
   ],
   "source": [
    "delta = 4 * h\n",
    "delta"
   ]
  },
  {
   "cell_type": "code",
   "execution_count": 9,
   "metadata": {},
   "outputs": [],
   "source": [
    "x = []\n",
    "y = []\n",
    "volume = []\n",
    "for j in range(0,int(2*ycrack/h)+1):\n",
    "    for i in range(0,n+1):\n",
    "        x.append(0.05-h/2-i*h)\n",
    "        y.append(0.01+j*h)\n",
    "\n",
    "for j in range(0,int(2*ycrack/h)+1):\n",
    "    for i in range(0,n+1):\n",
    "        x.append(0.05+h/2+i*h)\n",
    "        y.append(0.01+j*h)\n",
    "        \n",
    "\n",
    "for x_, y_ in zip(x,y) :\n",
    "    if x_ == min(x) or x_ == max(x) or y_ == min(y) or y_ == max(y):\n",
    "        volume.append(h*h/2)\n",
    "    else:\n",
    "        volume.append(h*h)    "
   ]
  },
  {
   "cell_type": "code",
   "execution_count": 10,
   "metadata": {},
   "outputs": [],
   "source": [
    "amountleft = 0\n",
    "amountright = 0\n",
    "miny = min(y)\n",
    "lineleft = []\n",
    "lineright = []\n",
    "for x_, y_ in zip(x,y) :\n",
    "    if y_ == miny and x_ < 0.05 :\n",
    "        amountleft += 1\n",
    "        lineleft.append(x_)\n",
    "    if y_ == miny and x_ > 0.05 :\n",
    "        amountright += 1\n",
    "        lineright.append(x_)\n",
    "\n",
    "lineleft = np.sort(lineleft)\n",
    "lineright = np.sort(lineright)\n",
    "\n",
    "lineleft = np.array(lineleft)\n",
    "lineright = np.array(lineright)"
   ]
  },
  {
   "cell_type": "code",
   "execution_count": 11,
   "metadata": {},
   "outputs": [
    {
     "data": {
      "text/plain": [
       "array([0.00984375, 0.00953613, 0.00922852, 0.0089209 , 0.00861328,\n",
       "       0.00830566, 0.00799805, 0.00769043, 0.00738281, 0.0070752 ,\n",
       "       0.00676758, 0.00645996, 0.00615234, 0.00584473, 0.00553711,\n",
       "       0.00522949, 0.00492187, 0.00461426, 0.00430664, 0.00399902,\n",
       "       0.00369141, 0.00338379, 0.00307617, 0.00276855, 0.00246094,\n",
       "       0.00215332, 0.0018457 , 0.00153809, 0.00123047, 0.00092285,\n",
       "       0.00061523, 0.00030762, 0.        ])"
      ]
     },
     "execution_count": 11,
     "metadata": {},
     "output_type": "execute_result"
    }
   ],
   "source": [
    "0.05-h/2-lineleft"
   ]
  },
  {
   "cell_type": "code",
   "execution_count": 12,
   "metadata": {},
   "outputs": [
    {
     "data": {
      "text/plain": [
       "array([ 0.        , -0.00030762, -0.00061523, -0.00092285, -0.00123047,\n",
       "       -0.00153809, -0.0018457 , -0.00215332, -0.00246094, -0.00276855,\n",
       "       -0.00307617, -0.00338379, -0.00369141, -0.00399902, -0.00430664,\n",
       "       -0.00461426, -0.00492187, -0.00522949, -0.00553711, -0.00584473,\n",
       "       -0.00615234, -0.00645996, -0.00676758, -0.0070752 , -0.00738281,\n",
       "       -0.00769043, -0.00799805, -0.00830566, -0.00861328, -0.0089209 ,\n",
       "       -0.00922852, -0.00953613, -0.00984375])"
      ]
     },
     "execution_count": 12,
     "metadata": {},
     "output_type": "execute_result"
    }
   ],
   "source": [
    "0.05+h/2-lineright"
   ]
  },
  {
   "cell_type": "code",
   "execution_count": 13,
   "metadata": {},
   "outputs": [],
   "source": [
    "z = np.linspace(0,1,len(lineleft))"
   ]
  },
  {
   "cell_type": "code",
   "execution_count": 14,
   "metadata": {},
   "outputs": [
    {
     "data": {
      "text/plain": [
       "[<matplotlib.lines.Line2D at 0x7f218f3abaf0>]"
      ]
     },
     "execution_count": 14,
     "metadata": {},
     "output_type": "execute_result"
    },
    {
     "data": {
      "image/png": "[encoded data removed]",
      "text/plain": [
       "<Figure size 432x288 with 1 Axes>"
      ]
     },
     "metadata": {
      "needs_background": "light"
     },
     "output_type": "display_data"
    }
   ],
   "source": [
    "plt.plot(z,np.sort(abs(0.05-h/2-lineleft)))\n",
    "plt.plot(z,abs(0.05+h/2-lineright))"
   ]
  },
  {
   "cell_type": "code",
   "execution_count": 15,
   "metadata": {},
   "outputs": [
    {
     "data": {
      "text/plain": [
       "33"
      ]
     },
     "execution_count": 15,
     "metadata": {},
     "output_type": "execute_result"
    }
   ],
   "source": [
    "amountleft"
   ]
  },
  {
   "cell_type": "code",
   "execution_count": 16,
   "metadata": {},
   "outputs": [
    {
     "data": {
      "text/plain": [
       "33"
      ]
     },
     "execution_count": 16,
     "metadata": {},
     "output_type": "execute_result"
    }
   ],
   "source": [
    "amountright"
   ]
  },
  {
   "cell_type": "code",
   "execution_count": 17,
   "metadata": {},
   "outputs": [
    {
     "data": {
      "text/plain": [
       "0.040002441406250006"
      ]
     },
     "execution_count": 17,
     "metadata": {},
     "output_type": "execute_result"
    }
   ],
   "source": [
    "min(x)"
   ]
  },
  {
   "cell_type": "code",
   "execution_count": 18,
   "metadata": {},
   "outputs": [
    {
     "data": {
      "text/plain": [
       "0.05999755859375"
      ]
     },
     "execution_count": 18,
     "metadata": {},
     "output_type": "execute_result"
    }
   ],
   "source": [
    "max(x)"
   ]
  },
  {
   "cell_type": "code",
   "execution_count": 19,
   "metadata": {},
   "outputs": [
    {
     "data": {
      "text/plain": [
       "0.01"
      ]
     },
     "execution_count": 19,
     "metadata": {},
     "output_type": "execute_result"
    }
   ],
   "source": [
    "min(y)"
   ]
  },
  {
   "cell_type": "code",
   "execution_count": 20,
   "metadata": {},
   "outputs": [
    {
     "data": {
      "text/plain": [
       "0.029995117187500003"
      ]
     },
     "execution_count": 20,
     "metadata": {},
     "output_type": "execute_result"
    }
   ],
   "source": [
    "max(y)"
   ]
  },
  {
   "cell_type": "code",
   "execution_count": 21,
   "metadata": {},
   "outputs": [
    {
     "data": {
      "text/plain": [
       "<matplotlib.collections.PathCollection at 0x7f200626b010>"
      ]
     },
     "execution_count": 21,
     "metadata": {},
     "output_type": "execute_result"
    },
    {
     "data": {
      "image/png": "[encoded data removed]",
      "text/plain": [
       "<Figure size 432x288 with 1 Axes>"
      ]
     },
     "metadata": {
      "needs_background": "light"
     },
     "output_type": "display_data"
    }
   ],
   "source": [
    "plt.plot(xareaPD,yareaPD)\n",
    "plt.plot([0.05,0.05],[0.01,0.02])\n",
    "plt.scatter(x,y,c=volume)"
   ]
  },
  {
   "cell_type": "code",
   "execution_count": 22,
   "metadata": {},
   "outputs": [
    {
     "data": {
      "text/plain": [
       "<matplotlib.collections.PathCollection at 0x7f200626b8e0>"
      ]
     },
     "execution_count": 22,
     "metadata": {},
     "output_type": "execute_result"
    },
    {
     "data": {
      "image/png": "[encoded data removed]",
      "text/plain": [
       "<Figure size 432x288 with 1 Axes>"
      ]
     },
     "metadata": {
      "needs_background": "light"
     },
     "output_type": "display_data"
    }
   ],
   "source": [
    "plt.plot(xarea,yarea)\n",
    "plt.plot(xareaPD,yareaPD)\n",
    "plt.plot([0.05,0.05],[0,0.02])\n",
    "plt.scatter(x,y)"
   ]
  },
  {
   "cell_type": "code",
   "execution_count": 23,
   "metadata": {},
   "outputs": [
    {
     "data": {
      "text/plain": [
       "1"
      ]
     },
     "execution_count": 23,
     "metadata": {},
     "output_type": "execute_result"
    }
   ],
   "source": [
    "writer = vtk.vtkXMLUnstructuredGridWriter()\n",
    "writer.SetFileName(\"coupling_\"+str(n)+\".vtu\")\n",
    "grid = vtk.vtkUnstructuredGrid()\n",
    "points = vtk.vtkPoints()\n",
    "points.SetNumberOfPoints(len(x))\n",
    "points.SetDataTypeToDouble()\n",
    "\n",
    "for i in range(0,len(x)):\n",
    "    points.InsertPoint(i,x[i],y[i],0.)\n",
    "    \n",
    "grid.SetPoints(points)\n",
    "\n",
    "\n",
    "dataOut = grid.GetPointData()\n",
    "array = vtk.vtkDoubleArray()\n",
    "array.SetName(\"Volumes\")\n",
    "array.SetNumberOfComponents(1)\n",
    "array.SetNumberOfTuples(len(x))\n",
    "\n",
    "for i in range(0,len(x)):\n",
    "    array.SetTuple1(i,volume[i])\n",
    "dataOut.AddArray(array)\n",
    "\n",
    "\n",
    "writer.SetInputData(grid)\n",
    "writer.GetCompressor().SetCompressionLevel(0)\n",
    "writer.SetDataModeToAscii()\n",
    "writer.Write()"
   ]
  },
  {
   "cell_type": "code",
   "execution_count": 24,
   "metadata": {},
   "outputs": [
    {
     "name": "stdout",
     "output_type": "stream",
     "text": [
      "Construct-aligned-mesh-example1.ipynb\n",
      "Construct-aligned-mesh-example2.ipynb\n",
      "coupling_128.vtk\n",
      "coupling_128.vtu\n",
      "coupling_16.vtk\n",
      "coupling_16.vtu\n",
      "coupling_32_pum.vtk\n",
      "coupling_32_pum.vtu\n",
      "coupling_32.vtk\n",
      "coupling_32.vtu\n",
      "coupling_64.vtk\n",
      "coupling_64.vtu\n",
      "input.yaml\n",
      "out-coarse\n"
     ]
    }
   ],
   "source": [
    "%%bash \n",
    "ls"
   ]
  },
  {
   "cell_type": "code",
   "execution_count": 25,
   "metadata": {},
   "outputs": [],
   "source": [
    "import meshio"
   ]
  },
  {
   "cell_type": "code",
   "execution_count": 26,
   "metadata": {},
   "outputs": [],
   "source": [
    "points = []\n",
    "cells = []\n",
    "for i in range(0,len(x)):\n",
    "    points.append([x[i],y[i],0])\n",
    "    cells.append((\"vertex\", [[i]]))"
   ]
  },
  {
   "cell_type": "code",
   "execution_count": 27,
   "metadata": {},
   "outputs": [],
   "source": [
    "mesh = meshio.Mesh(\n",
    "    points,\n",
    "    cells,\n",
    "    # Optionally provide extra data on points, cells, etc.\n",
    "    point_data={\"Volume\": volume},\n",
    "    # Each item in cell data must match the cells array\n",
    ")\n",
    "mesh.write(\n",
    "    \"coupling_\"+str(n)+\".vtk\",  # str, os.PathLike, or buffer/open file\n",
    "    # file_format=\"vtk\",  # optional if first argument is a path; inferred from extension\n",
    ")"
   ]
  },
  {
   "cell_type": "code",
   "execution_count": 28,
   "metadata": {},
   "outputs": [
    {
     "name": "stdout",
     "output_type": "stream",
     "text": [
      "Construct-aligned-mesh-example1.ipynb\n",
      "Construct-aligned-mesh-example2.ipynb\n",
      "coupling_128.vtk\n",
      "coupling_128.vtu\n",
      "coupling_16.vtk\n",
      "coupling_16.vtu\n",
      "coupling_32_pum.vtk\n",
      "coupling_32_pum.vtu\n",
      "coupling_32.vtk\n",
      "coupling_32.vtu\n",
      "coupling_64.vtk\n",
      "coupling_64.vtu\n",
      "input.yaml\n",
      "out-coarse\n"
     ]
    }
   ],
   "source": [
    "%%bash \n",
    "ls"
   ]
  },
  {
   "cell_type": "code",
   "execution_count": 29,
   "metadata": {},
   "outputs": [],
   "source": [
    "mesh = meshio.read(\n",
    "    \"coupling_\"+str(n)+\".vtk\",  # string, os.PathLike, or a buffer/open file\n",
    "    # file_format=\"stl\",  # optional if filename is a path; inferred from extension\n",
    "    # see meshio-convert -h for all possible formats\n",
    ")"
   ]
  }
 ],
 "metadata": {
  "kernelspec": {
   "display_name": "Python 3",
   "language": "python",
   "name": "python3"
  },
  "language_info": {
   "codemirror_mode": {
    "name": "ipython",
    "version": 3
   },
   "file_extension": ".py",
   "mimetype": "text/x-python",
   "name": "python",
   "nbconvert_exporter": "python",
   "pygments_lexer": "ipython3",
   "version": "3.10.2"
  }
 },
 "nbformat": 4,
 "nbformat_minor": 5
}
